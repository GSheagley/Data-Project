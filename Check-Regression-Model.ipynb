{
 "cells": [
  {
   "cell_type": "markdown",
   "metadata": {},
   "source": [
    "# State of San Diego Infrastructure\n",
    "##### COGS 108 Final Project by : Anaelle Kim, Grant Sheagley, Dylan Christiano, Shawn Le"
   ]
  },
  {
   "cell_type": "code",
   "execution_count": 1,
   "metadata": {
    "collapsed": true
   },
   "outputs": [],
   "source": [
    "# Imports: Tools we will need to use for cleaning and analysis of question\n",
    "import numpy as np \n",
    "import pandas as pd \n",
    "import matplotlib.pyplot as plt \n",
    "import re \n",
    "import difflib \n",
    "\n",
    "# Possibly use this OLS summary\n",
    "import patsy \n",
    "import statsmodels.api as sm\n",
    "\n",
    "# Linear Models with sklearn\n",
    "from sklearn import linear_model\n",
    "\n",
    "# Possibly use this for stats summary statistics\n",
    "from scipy import stats\n",
    "from scipy.stats import chi2_contingency\n",
    "from scipy.stats import normaltest"
   ]
  },
  {
   "cell_type": "markdown",
   "metadata": {},
   "source": [
    "## Background\n",
    "\n",
    "The background of our research question originates from each members' inherent interest in the prevalence of Motor Vehicle Accidents (MVA) within the United States as a whole. Considering the fact that MVAs have the potential of damaging not just infrastructure, but also the lives of those involved in said MVAs, it was hard for each of us within this research group to not question why this might occur in the first place. As soon as we identified the fact that this is the research question we would be investigating for our data science project, we immediately started looking for any public information regarding MVAs, but more specifically, MVAs within the city of San Diego. After some deep research, we were able to find said data, and from these sources, we started to build up on our ideas regarding how we would analyze and integrate the data into a presentable form."
   ]
  },
  {
   "cell_type": "markdown",
   "metadata": {},
   "source": [
    "## Research Question\n",
    "\n",
    "Our research question concerns the following: Are there implicit determinants of MVAs in the city of San Diego? In our project, we look into data regarding weather, infrastructural integrity, and the overall lighting (bright, dark, etc.) in the areas relative to the location of each MVA. "
   ]
  },
  {
   "cell_type": "markdown",
   "metadata": {},
   "source": [
    "## Significance\n",
    "\n",
    "Our research inherently deals with accidents that directly affect people in a way that is potentially harmful, not just to the infrastrucutre in San Diego, but also to the livelihood of the individuals involved in the accidents themselves. Any time there is a MVA, there is a chance that there is physical harm done, and that said physical harm may haven been partly due to the conditions surrounding the accident itself, such as potholes, poor lighting, etc. The importance we, as a group, see in this project is oriented around the possibility that doing data analysis and showing statistics on MVAs and their corresponding conditions could potentially reveal ways in which the San Diego can better prevent these accidents from occurring. For example, if we happen find a correlation between poor lighting and higher occurences of MVAs, then it may provide the initiative to investigate these areas and even potentially replace said lighting. Or if we happen to find an area of San Diego that has a high rate of MVAs while under the influence, then this could also be used to better gauge where there needs to be patrolling done to identify and prevent these forms of MVAs."
   ]
  },
  {
   "cell_type": "markdown",
   "metadata": {},
   "source": [
    "## Hypothesis\n",
    "\n",
    "Our prediction as a group is that there will be a strong correlation between poor street conditions and MVAs (i.e. the more worse the street condition, the more MVA's there will be). We came to form this hypothesis as a byproduct of the inherent assumption that accidents are more probable in areas where the conditions at hand are less than optimal in creating an environment that ensures easier transportation. In other words, our hypothesis was formed simply because it seemed more logical to assume that poor conditions are more likely to hold accidents than conditions that do not have such poor conditions. These conditions will be defined by Overall Condition Index (OCI): \n",
    "\n",
    "\"Good\" street conditions are defined as follows: A street in this category has little or no cracking, minor potholes, or other distresses. It has excellent drivability and needs little maintenance or remedial repair. A street in good condition has an OCI rating between 70 and 100. \n",
    "\n",
    "\"Fair\" street conditions are defined as follows: A street in this category has moderate cracking, some minor potholes and has adequate drivability. It is typically in need of remedial repairs and a slurry seal. A street in fair condition has an OCI rating between 40 and 69. \n",
    "\n",
    "\"Poor\" conditions are defined as follows: A street in this category has severe cracking, numerous areas of failed pavement with possible sub base failure, and exhibits a rough ride. It qualifies for a comprehensive repair or a total reconstruction – meaning that a street may be replaced from the ground up if conditions warrant that effort. A street in poor condition has an OCI rating between 0 and 39. \n",
    "\n",
    "However, there is also the possibility that MVAs within San Diego have implications regarding a variety of different characteristics of the city itself. There may also be additional problems besides infrastructure, such as the nature of obtaining drivers licenses, or maybe even the physical or mental state in which drivers are operating the vehicles themselves."
   ]
  },
  {
   "cell_type": "markdown",
   "metadata": {},
   "source": [
    "## Potential Solutions\n",
    "\n",
    "There are many potential answers to the variety of different problems inherent within our research question. If our project renders our hypothesis valid, than a possible solution would be to have the city of San Diego distribute more money to improving the conditions of road infrastructure. If our hypothesis ends up lacking support, then are possible solutions could be highly variable. For example, if there ends up being a correlation between weather and MVAs, then a possible solution may orient around the city of San Diego promoting driving and safety techniques to cope with said weather. If there is a correlation between lighting and MVAs, then a possible solution may deal with funds towards things like better street lights, or less prevalence of fluorescent lighting if brightness ends up being correlated to MVAs. These potential solutions will be explored further towards the end of the study once there has been actual data analysis. "
   ]
  },
  {
   "cell_type": "markdown",
   "metadata": {},
   "source": [
    "## Potential Confounds\n",
    "\n",
    "There are a variety of potential confounds in regards to our data project. When it comes to determining why accidents occur within San Diego, or even as a whole, we as a group could potentially be dealing with a lot more than just variables regarding weather, OCI, and lighting. In fact, we could be dealing with the mentality inherent in American culture. For example, a variable that could affect the level of car crashes in San Diego could be oriented around the fact that Americans are inherently more attracted to the idea of owning and operating their own vehicles, in comparison to European culture, which is more heavily reliant on public transportation. Another potential, and similar, confound could deal with the actual skill of those driving. There is not necessarily any data quantifying the level of driving skill in each of these MVAs, but that is something that could be a direct cause of many MVAs in contrast to variables such as lighting, weather, and OCI. Regardless, the variables mentioned above would be extremely hard to do actual data analysis on, considering the fact that there really is not any kind of relevant data oriented around these two topics, despite the fact that they could be potentially influencing our research question."
   ]
  },
  {
   "cell_type": "markdown",
   "metadata": {},
   "source": [
    "## Research after Hypothesis:\n",
    "\n",
    "If our hypothesis, which is that there will be a strong correlation between poor street conditions and MVAs, ends up being incorrect, then we as a group will investigate further into the nature of the incidents themselves. Rather than look into the infrastructure as a possible influence in MVAs in San Diego, such as the lighting and the weather. If these additional variables prove to be insignificant in regards to MVAs, we will end up investigating other factors in which these MVAs occurred, such as whether or not those involved in the MVAs were in any way under the infleunce while operating their respective vehicles."
   ]
  },
  {
   "cell_type": "markdown",
   "metadata": {},
   "source": [
    "## Methods and Sources\n",
    "\n",
    "In regards to where we received our data, there were two individual sources that we used. For our MVA, lighting, and weather data, we used the California Highway Patrol Homepage, linked here: http://iswitrs.chp.ca.gov/Reports/jsp/RawData.jsp\n",
    "\n",
    "As for our OCI data, we used the Streets Overall Condition Index page on sandiego.gov, as linked here: https://data.sandiego.gov/datasets/streets-overall-condition-index/\n",
    "\n",
    "The methods by which we conducted our cleaning and analysis will be detailed in the study below. However, as a brief summarization, this is what was done in regards to the cleaning process of our datasets:\n",
    "1. The main dataset that needed cleaning was our main MVA set, which required us to remove highways, state roads, and interstates that were not represented by the OCI dataset. In addition to this, we also cleared any data involving drugs or alcohol, simply because it would interfere with our analysis of infrastructural influence of MVAs. \n",
    "\n",
    "Here is a brief summarization of what was done in regards to data analytics:\n",
    "1. Each OCI value was given a particular color code, and was then graphed into a barh plot relative to the number of MVAs corresponding to 'Poor,' 'Fair,' and 'Good,' OCI values. It is our intention to measure the signficance of this visualization using a ttest or chi-square, however, we are still in the process of making that happen. Despite this, we were able to employ chi-square statistics in regards to statistical significance between OCI, weather, and lighting, and MVAs, weather and lighting. After an additional barh plot was displayed to show the prevalence of MVAs relative to weather and lighting conditions. A chi-square statistic was then found for each of these variables (OCI, weather and lighting, and MVAs, weather, and lighting). Following this statistical analysis and data visualization, one last graph, a bar graph, was displayed to show the prevalence of of accidents and their corresponding causes (i.e. unsafe speeding, wrong side of the wrong, etc.) More info on what will be done from during this week before presentation and project submission will be detailed in the discussion at the very end of the project. "
   ]
  },
  {
   "cell_type": "markdown",
   "metadata": {},
   "source": [
    "## Section 1: Loading and Cleaning the Data process"
   ]
  },
  {
   "cell_type": "markdown",
   "metadata": {},
   "source": [
    "The main variable that we will judge whether or not a street is safe or not, is the OCI. From streets.sandiego.gov, \n",
    "\n",
    "The 100-point OCI rating system the City [San Diego] uses classifies streets into one of three categories:\n",
    "Good - A street in this category has little or no cracking, minor potholes, or other distresses. It has excellent drivability and needs little maintenance or remedial repair. A street in good condition has an OCI rating between: 70 and 100.\n",
    "\n",
    "Fair - A street in this category has moderate cracking, some minor potholes and has adequate drivability. It is typically in need of remedial repairs and a slurry seal. A street in fair condition has an OCI rating between:\n",
    "40 and 69.\n",
    "\n",
    "Poor - A street in this category has severe cracking, numerous areas of failed pavement with possible sub base failure, and exhibits a rough ride. It qualifies for a comprehensive repair or a total reconstruction – meaning that a street may be replaced from the ground up if conditions warrant that effort. A street in poor condition has an OCI rating between:\n",
    "0 and 39.\n",
    "\n",
    "In essence, we will be using this index to first investigate our hypothesis and find a possible correlation between street conditions [OCI] and motor vehicle accidents [Frequency]. Once we have evidence for or against our hypothesis, we can then move onto exploring other factors that contribute to MVAs.\n",
    "\n",
    "We accomplish this by drawing OCI data and MVA collision data over a period of 5 years from the city of San Diego via their official website and combining them into a single dataframe to analyze. \n",
    "\n",
    "We can create this single dataframe by matching an OCI with the street in which an accident occured:"
   ]
  },
  {
   "cell_type": "markdown",
   "metadata": {},
   "source": [
    "### Step A.\n",
    "Creating a new DF with MVA collisions and OCI Index of those collisions"
   ]
  },
  {
   "cell_type": "code",
   "execution_count": null,
   "metadata": {
    "collapsed": true
   },
   "outputs": [],
   "source": [
    "def MVA(years):\n",
    "    col_name = [\"COLLISION_DATE\",\"COLLISION_TIME\",\"PRIMARY_RD\",\"SECONDARY_RD\",\"CHP_BEAT_TYPE\",\"WEATHER_1\",\"COLLISION_SEVERITY\",\"PRIMARY_COLL_FACTOR\",\"PCF_VIOL_CATEGORY\",\"LIGHTING\",\"ROAD_SURFACE\",\"ROAD_COND_1\"]\n",
    "    MVA_DF = pd.DataFrame(data=None, index=None, columns=col_name, dtype=None) #New empty dataframe\n",
    "    MVA_DF_2015 = pd.DataFrame(data=None, index=None, columns=col_name, dtype=None) #New empty dataframe\n",
    "    size=0\n",
    "    for year in years:\n",
    "        if (year != 2012) : \n",
    "            DF = pd.read_csv('CollisionRecords%i.txt' % year,sep = ',', dtype='unicode') #Read the csv file\n",
    "            DF = DF[col_name]\n",
    "            DF = cleaning_MVA(DF)\n",
    "            size += len(DF) #Check size matches \n",
    "            if year >= 2015 : \n",
    "                MVA_DF_2015 = MVA_DF_2015.append(DF)#Add DF to our initialized dataframe\n",
    "            else : \n",
    "                MVA_DF = MVA_DF.append(DF)#Add DF to our initialized dataframe\n",
    "\n",
    "            \n",
    "    print(size)#Just to check\n",
    "    return(MVA_DF,MVA_DF_2015)\n",
    "\n",
    "def OCI(year_oci):\n",
    "    dct_oci = {2011: 'DF_OCI_2011', 2015: 'DF_OCI_2011'}\n",
    "    for year in year_oci : \n",
    "        dct_oci[year] = pd.read_csv('OCI_SD_%i.csv' % year,sep = ',', dtype='unicode') #Read the csv file\n",
    "        dct_oci[year]= dct_oci[year][['oci','street','street_from','street_to','oci_desc']] #Keep only relevant variables\n",
    "    return(dct_oci)"
   ]
  },
  {
   "cell_type": "markdown",
   "metadata": {},
   "source": [
    "### Step B.\n",
    "Clearing any inconsistencies"
   ]
  },
  {
   "cell_type": "code",
   "execution_count": null,
   "metadata": {
    "collapsed": true,
    "scrolled": false
   },
   "outputs": [],
   "source": [
    "def cleaning_MVA(MVA_DF):\n",
    "    print(\"original size : \", len(MVA_DF))\n",
    "    MVA_DF= MVA_DF.reset_index(drop=True)\n",
    "    reg = re.compile(\"((.*)?I(-|\\s)?(-|\\s)?\\d+)(.*)?|(.*)?((S|R)(.)?(R|T)(.)?(\\s)?\\d+)(.*)?\")\n",
    "    count = 0\n",
    "    pattern_digitAV = re.compile(\"^(^[0-9])([A-Z].*)\") #If start with one digit and followed by str\n",
    "    dico = {\"HWY\" : \"HY\", \"RT \" : \"I-\",\"INTERSTATE \": \"I-\",\"STATE ROUTE \": \"I-\",\"STREET\": \"ST\",\"AVENUE\":\"AV\",\"AVE\":\"AV\",\"EAST\": \"E\",\"WEST\":\"W\",\"NORTH\":\"N\",\"SOUTH\":\"S\"} \n",
    "    for i in range(len(MVA_DF)) : #When finished, len(DF)\n",
    "        (MVA_DF[\"PRIMARY_RD\"])[i] = multiple_replace(dico,(MVA_DF[\"PRIMARY_RD\"])[i]) #Get the street name\n",
    "        (MVA_DF[\"SECONDARY_RD\"])[i] = multiple_replace(dico,(MVA_DF[\"SECONDARY_RD\"])[i]) #Get intersection \n",
    "        digit_AV_street = pattern_digitAV.match((MVA_DF[\"PRIMARY_RD\"])[i]) # Check if match with pattern\n",
    "        digit_AV_Inter =pattern_digitAV.match((MVA_DF[\"SECONDARY_RD\"])[i]) # Check if match with pattern\n",
    "        if digit_AV_Inter is not None : \n",
    "            (MVA_DF[\"SECONDARY_RD\"])[i]= \"0\" + digit_AV_Inter.group()    #Add a 0 in front if match\n",
    "        if digit_AV_street is not (None):\n",
    "            (MVA_DF[\"PRIMARY_RD\"])[i] = \"0\" + digit_AV_street.group() #Add a 0 in front if match\n",
    "        if reg.match((MVA_DF[\"PRIMARY_RD\"])[i]):\n",
    "            MVA_DF.drop(i, inplace=True)\n",
    "            count = count+1\n",
    "    MVA_DF = MVA_DF.loc[MVA_DF.PCF_VIOL_CATEGORY != '1'] #If driving under drugs or alcohol\n",
    "    print(\"count\",count)\n",
    "    print(\"lenDF: \",len(MVA_DF))\n",
    "    return (MVA_DF)\n",
    "\n",
    "def multiple_replace(dico, name_street):\n",
    "  # Create a regular expression  from the dictionary keys\n",
    "  regex = re.compile(\"(%s)\" % \"|\".join(map(re.escape, dico.keys())))\n",
    "\n",
    "  # For each match, look-up corresponding value in dictionary\n",
    "  return (regex.sub(lambda mo: dico[mo.string[mo.start():mo.end()]], name_street) )"
   ]
  },
  {
   "cell_type": "markdown",
   "metadata": {},
   "source": [
    "### Step C.\n",
    "Cleaning the data: removing things such as highways and accidents that did not occur on a street of the offical OC. We do this to keep consistency with the datasets.  "
   ]
  },
  {
   "cell_type": "code",
   "execution_count": null,
   "metadata": {
    "collapsed": true
   },
   "outputs": [],
   "source": [
    "def street_match(MVA_DF,DF_OCI):\n",
    "    print('Je suis la')\n",
    "    DF = pd.DataFrame(data=None, index=None, columns= None, dtype=None) #Will be final merged DF\n",
    "    street_len = 0 #Var for number of Primary_RD not matching street name\n",
    "    intersection_len = 0 #Var for number of Secondary_RD not matching street_from or street_to\n",
    "    MVA_DF= MVA_DF.reset_index(drop=True)\n",
    "\n",
    "    for i in range(len(MVA_DF)) : #Loop through all the DF with the Accidents/Collisison\n",
    "        street_name = (MVA_DF[\"PRIMARY_RD\"])[i] #Get street_name from Primary_RD\n",
    "        intersection = (MVA_DF[\"SECONDARY_RD\"])[i] #Get the Secondary_RD/Intersection \n",
    "        TEMP = DF_OCI.loc[(DF_OCI['street'].str.contains(street_name))] #Get all the street in the OCI that contains or is equal to street_name (from MVA_DF)    \n",
    "        if TEMP.empty: #If nothing matchs\n",
    "            street_len = street_len +1\n",
    "            Close_Match_Street = (difflib.get_close_matches(street_name, (DF_OCI['street']),n=1)) #Function that finds the closest match - Chose to only take one out of the different matches\n",
    "            if (Close_Match_Street != []) : #If there is a match\n",
    "                TEMPA = DF_OCI.loc[DF_OCI['street'].str.contains(Close_Match_Street[0])] #Get all the street names from DF_OCI that contain or is equal to this new close match\n",
    "                TEMP3,intersection_len= inter(TEMPA,intersection_len,intersection,i)\n",
    "                if not TEMP3.empty : \n",
    "                    DF = dataframe(TEMP3,i,DF,MVA_DF)\n",
    "            else :\n",
    "                print(\"No street match\")\n",
    "                print(\"Street : \",street_name,\" Intersection : \",intersection)        \n",
    "        else : \n",
    "            TEMP2,intersection_len= inter(TEMP,intersection_len,intersection,i) \n",
    "            DF= dataframe(TEMP2,i,DF,MVA_DF)\n",
    "\n",
    "        print(i)\n",
    "        \n",
    "    return(DF)"
   ]
  },
  {
   "cell_type": "code",
   "execution_count": null,
   "metadata": {
    "collapsed": true
   },
   "outputs": [],
   "source": [
    "def inter(TEMP,intersection_len,intersection,i) : \n",
    "    TEMP2 = pd.DataFrame(data=None, index=None, columns= None, dtype=None) #New empty dataframe    \n",
    "    TEMP2 = TEMP.loc[(TEMP['street_from'] == intersection)|(TEMP['street_to']==(intersection))]  \n",
    "    if TEMP2.empty : \n",
    "        Close_Match_Intersection = (difflib.get_close_matches(intersection, (TEMP['street_from']),n=1))\n",
    "        Close_Match_To = (difflib.get_close_matches(intersection, (TEMP['street_to']),n=1))\n",
    "        if (Close_Match_Intersection != []) & (Close_Match_To != []) : \n",
    "            TEMP2 = TEMP.loc[(TEMP['street_from'] == Close_Match_Intersection[0])|(TEMP['street_to']== Close_Match_To[0])]\n",
    "        elif (Close_Match_Intersection != []) : \n",
    "            TEMP2 = TEMP.loc[(TEMP['street_from'] == Close_Match_Intersection[0])]\n",
    "        elif (Close_Match_To != []) : \n",
    "            TEMP2 = TEMP.loc[(TEMP['street_to'] == Close_Match_To[0])]\n",
    "        else : \n",
    "            #print(\"Street : \",street_name,\" Intersection : \",intersection,\"INDEX : \",i)\n",
    "            intersection_len = intersection_len +1\n",
    "    if TEMP2 is not None : \n",
    "        return(TEMP2,intersection_len)\n",
    "    \n",
    "def dataframe(TEMP,i,DF,MVA_DF):\n",
    "    TEST = pd.DataFrame(data=None, index=None, columns= None, dtype=None)\n",
    "    TEMP = TEMP.reset_index(drop=True)#From OCI DF\n",
    "    TEMP1 = MVA_DF.loc[MVA_DF.index == i]\n",
    "    TEMP1 = TEMP1.reset_index(drop=True)\n",
    "    a = True\n",
    "    length = len(TEMP)\n",
    "    if length ==1 :\n",
    "        TEST = TEMP.join(TEMP1)\n",
    "        DF = DF.append(TEST) \n",
    "    elif length > 1 : \n",
    "        for j in range(len(TEMP)-1) :\n",
    "            if (TEMP['oci_desc'])[j] != (TEMP['oci_desc'])[j+1]:\n",
    "                a = False\n",
    "        if a == True : \n",
    "            TEMP = TEMP.loc[[0]]\n",
    "            TEST = TEMP.join(TEMP1)\n",
    "            DF = DF.append(TEST)\n",
    "    if DF is not None :\n",
    "        return(DF)"
   ]
  },
  {
   "cell_type": "markdown",
   "metadata": {},
   "source": [
    "### Step D.\n",
    "This is where we merge the data between the OCI and the MVA collision data into a single dataframe"
   ]
  },
  {
   "cell_type": "code",
   "execution_count": null,
   "metadata": {
    "collapsed": true
   },
   "outputs": [],
   "source": [
    "def save(DF,name) : \n",
    "    DF= DF.reset_index(drop=True)\n",
    "    DF.to_csv('%s.csv' % name)"
   ]
  },
  {
   "cell_type": "code",
   "execution_count": null,
   "metadata": {
    "collapsed": true
   },
   "outputs": [],
   "source": [
    "if __name__ == '__main__':\n",
    "    years = [2015]\n",
    "    MVA_1,MVA_2 = MVA(years)\n",
    "    OCI_1 = OCI([2011,2015])\n",
    "    DF_1 = street_match(MVA_1,OCI_1[2011])\n",
    "    DF_2= street_match(MVA_2,OCI_1[2015])\n",
    "    save(DF_1,'DF_1')\n",
    "    save(DF_2,'DF_2')"
   ]
  },
  {
   "cell_type": "code",
   "execution_count": 2,
   "metadata": {
    "collapsed": true
   },
   "outputs": [],
   "source": [
    "def transform(DF) : \n",
    "#LIGHT = DF['LIGHTING'].loc[(DF.LIGHTING == 'A')| (DF.LIGHTING == 'B')]\n",
    "    DF['LIGHTING'].loc[(DF.LIGHTING == 'A')| (DF.LIGHTING == 'B')] = np.random.randint(70,100, len(DF['LIGHTING'].loc[(DF.LIGHTING == 'A')| (DF.LIGHTING == 'B')]))\n",
    "    DF['LIGHTING'].loc[(DF.LIGHTING == 'E')| (DF.LIGHTING == 'D')] = np.random.randint(0,40, len(DF['LIGHTING'].loc[(DF.LIGHTING == 'E')| (DF.LIGHTING == 'D')]))\n",
    "    DF['LIGHTING'].loc[(DF.LIGHTING == 'C')] = np.random.randint(40,70, len(DF['LIGHTING'].loc[(DF.LIGHTING == 'C')]))\n",
    "\n",
    "    DF['WEATHER_1'].loc[(DF.WEATHER_1 == 'B')| (DF.WEATHER_1 == 'A')] = np.random.randint(70,100, len(DF['WEATHER_1'].loc[(DF.WEATHER_1 == 'A')| (DF.WEATHER_1 == 'B')]))\n",
    "    DF['WEATHER_1'].loc[(DF.WEATHER_1 == 'G')] = np.random.randint(40,70, len(DF['WEATHER_1'].loc[(DF.WEATHER_1 == 'G')]))\n",
    "    DF['WEATHER_1'].loc[(DF.WEATHER_1 == 'E')| (DF.WEATHER_1 == 'C')] = np.random.randint(0,40, len(DF['WEATHER_1'].loc[(DF.WEATHER_1 == 'C')| (DF.WEATHER_1 == 'E')]))\n",
    "    return (DF)"
   ]
  },
  {
   "cell_type": "code",
   "execution_count": 3,
   "metadata": {
    "collapsed": false
   },
   "outputs": [],
   "source": [
    "DF_1 = pd.read_csv('DF_1.csv',sep = ',', dtype='unicode',index_col=0) #Read the csv file\n",
    "DF_2 = pd.read_csv('DF_2.csv',sep = ',', dtype='unicode',index_col=0) #Read the csv file\n",
    "DF_1 = transform(DF_1)\n",
    "DF_2 = transform(DF_2)"
   ]
  },
  {
   "cell_type": "code",
   "execution_count": 113,
   "metadata": {
    "collapsed": false
   },
   "outputs": [
    {
     "data": {
      "image/png": "[encoded data removed]",
      "text/plain": [
       "<matplotlib.figure.Figure at 0x11b8cc7f0>"
      ]
     },
     "metadata": {},
     "output_type": "display_data"
    },
    {
     "name": "stdout",
     "output_type": "stream",
     "text": [
      "Intercept: \t 58.1878090813\n",
      "Theta D2 :\t 0.0120846582266\n",
      "Theta D3 :\t -0.00914525352238\n",
      "\n",
      "\n",
      "MVA Accident on an OCI = 58.1878090813 + 0.0120846582266 x + -0.00914525352238 y\n",
      "Where x = Lighting Rating and y = Weather Rating\n"
     ]
    }
   ],
   "source": [
    "D1 = DF_1['oci']\n",
    "D2 = DF_1['LIGHTING']\n",
    "D3 = DF_1['WEATHER_1']\n",
    "\n",
    "# Creating a new data frame\n",
    "D = pd.concat([D1, D2, D3], axis = 1, keys = ['OCI', 'LIGHTING', 'WEATHER'])\n",
    "\n",
    "# The reason we have an error is because python cannot plot these data on the x axis\n",
    "D = D.loc[(D['WEATHER'] != 'F') & (D['LIGHTING'] != '-') & (D['WEATHER'] != '-')]\n",
    "\n",
    "f = plt.figure()\n",
    "plt.plot(D['OCI'], D['LIGHTING'],  '.');\n",
    "plt.plot(D['OCI'], D['WEATHER'],  '.', color = 'r');\n",
    "plt.xlabel('OCI Rating')\n",
    "plt.ylabel('Weather / Lighting Rating')\n",
    "plt.title('OCI vs Lighting / Weather')\n",
    "plt.legend()\n",
    "plt.show()\n",
    "\n",
    "## Analysis\n",
    "d1 = np.reshape(D.OCI.values, [len(D.OCI), 1])\n",
    "d2 = np.reshape(D.LIGHTING.values, [len(D.LIGHTING), 1])\n",
    "d3 = np.reshape(D.WEATHER.values, [len(D.WEATHER), 1])\n",
    "\n",
    "## Multivariate Regression\n",
    "reg = linear_model.LinearRegression()\n",
    "\n",
    "# Check the results of this\n",
    "reg.fit(np.hstack([d2, d3]), d1)\n",
    "\n",
    "print('Intercept: \\t', reg.intercept_[0])\n",
    "print('Theta D2 :\\t', reg.coef_[0][0])\n",
    "print('Theta D3 :\\t', reg.coef_[0][1])\n",
    "\n",
    "print(\"\\n\")\n",
    "print(\"MVA Accident on an OCI =\", reg.intercept_[0], \"+\", reg.coef_[0][0], \"x +\", reg.coef_[0][1], \"y\" )\n",
    "print(\"Where x = Lighting Rating and y = Weather Rating\")"
   ]
  },
  {
   "cell_type": "markdown",
   "metadata": {},
   "source": [
    "### Step E\n",
    "Checking the new dataframe and resetting the index to reorder the data cells"
   ]
  },
  {
   "cell_type": "code",
   "execution_count": null,
   "metadata": {
    "collapsed": true
   },
   "outputs": [],
   "source": [
    "DF = DF.reset_index(drop=True)\n",
    "DF"
   ]
  },
  {
   "cell_type": "code",
   "execution_count": null,
   "metadata": {
    "collapsed": true
   },
   "outputs": [],
   "source": [
    "DF = pd.read_csv('Final_DF.csv') ## Dataframe we will use for the analysis"
   ]
  },
  {
   "cell_type": "code",
   "execution_count": null,
   "metadata": {
    "collapsed": true
   },
   "outputs": [],
   "source": [
    "DF.loc[DF['oci_desc'] == 'Good']\n",
    "\n",
    "A = pd.DataFrame(data=None, index=None, columns= None, dtype=None) # New dataframe"
   ]
  },
  {
   "cell_type": "markdown",
   "metadata": {},
   "source": [
    "## Section 2: Preliminary Data Analytics\n",
    "This section will used to quickly check values and poke around the new dataframe. Not committal to analysis."
   ]
  },
  {
   "cell_type": "code",
   "execution_count": 36,
   "metadata": {
    "collapsed": false
   },
   "outputs": [
    {
     "data": {
      "text/html": [
       "<div>\n",
       "<table border=\"1\" class=\"dataframe\">\n",
       "  <thead>\n",
       "    <tr style=\"text-align: right;\">\n",
       "      <th></th>\n",
       "      <th>oci</th>\n",
       "      <th>street</th>\n",
       "      <th>street_from</th>\n",
       "      <th>street_to</th>\n",
       "      <th>oci_desc</th>\n",
       "      <th>COLLISION_DATE</th>\n",
       "      <th>COLLISION_TIME</th>\n",
       "      <th>PRIMARY_RD</th>\n",
       "      <th>SECONDARY_RD</th>\n",
       "      <th>CHP_BEAT_TYPE</th>\n",
       "      <th>WEATHER_1</th>\n",
       "      <th>COLLISION_SEVERITY</th>\n",
       "      <th>PRIMARY_COLL_FACTOR</th>\n",
       "      <th>PCF_VIOL_CATEGORY</th>\n",
       "      <th>LIGHTING</th>\n",
       "      <th>ROAD_SURFACE</th>\n",
       "      <th>ROAD_COND_1</th>\n",
       "    </tr>\n",
       "  </thead>\n",
       "  <tbody>\n",
       "    <tr>\n",
       "      <th>0</th>\n",
       "      <td>39.67</td>\n",
       "      <td>EL PASEO GRANDE</td>\n",
       "      <td>CALLE CLARA</td>\n",
       "      <td>VALLECITOS</td>\n",
       "      <td>Poor</td>\n",
       "      <td>20111003</td>\n",
       "      <td>1810</td>\n",
       "      <td>EL PASEO GRANDE</td>\n",
       "      <td>CALLE CLARA</td>\n",
       "      <td>0</td>\n",
       "      <td>97</td>\n",
       "      <td>3</td>\n",
       "      <td>A</td>\n",
       "      <td>13</td>\n",
       "      <td>94</td>\n",
       "      <td>A</td>\n",
       "      <td>H</td>\n",
       "    </tr>\n",
       "    <tr>\n",
       "      <th>1</th>\n",
       "      <td>86.43</td>\n",
       "      <td>MONTEZUMA RD</td>\n",
       "      <td>COLLWOOD BL</td>\n",
       "      <td>YERBA SANTA DR</td>\n",
       "      <td>Good</td>\n",
       "      <td>20110427</td>\n",
       "      <td>1420</td>\n",
       "      <td>MONTEZUMA RD</td>\n",
       "      <td>YERBA SANTA RD</td>\n",
       "      <td>0</td>\n",
       "      <td>91</td>\n",
       "      <td>3</td>\n",
       "      <td>A</td>\n",
       "      <td>08</td>\n",
       "      <td>77</td>\n",
       "      <td>A</td>\n",
       "      <td>H</td>\n",
       "    </tr>\n",
       "    <tr>\n",
       "      <th>2</th>\n",
       "      <td>51.44</td>\n",
       "      <td>MIRAMAR RD</td>\n",
       "      <td>BLACK MTN RD</td>\n",
       "      <td>KEARNY VILLA RD</td>\n",
       "      <td>Fair</td>\n",
       "      <td>20110518</td>\n",
       "      <td>1030</td>\n",
       "      <td>MIRA MAR RD</td>\n",
       "      <td>KEARNY VILLA RD</td>\n",
       "      <td>0</td>\n",
       "      <td>71</td>\n",
       "      <td>4</td>\n",
       "      <td>A</td>\n",
       "      <td>12</td>\n",
       "      <td>79</td>\n",
       "      <td>A</td>\n",
       "      <td>H</td>\n",
       "    </tr>\n",
       "    <tr>\n",
       "      <th>3</th>\n",
       "      <td>65.88</td>\n",
       "      <td>EL CAJON BL</td>\n",
       "      <td>46TH ST</td>\n",
       "      <td>46TH ST</td>\n",
       "      <td>Fair</td>\n",
       "      <td>20110530</td>\n",
       "      <td>1738</td>\n",
       "      <td>EL CAJON BL</td>\n",
       "      <td>36TH ST</td>\n",
       "      <td>0</td>\n",
       "      <td>80</td>\n",
       "      <td>2</td>\n",
       "      <td>A</td>\n",
       "      <td>03</td>\n",
       "      <td>78</td>\n",
       "      <td>A</td>\n",
       "      <td>H</td>\n",
       "    </tr>\n",
       "    <tr>\n",
       "      <th>4</th>\n",
       "      <td>51.34</td>\n",
       "      <td>MONROE AV</td>\n",
       "      <td>MISSION AV</td>\n",
       "      <td>ALABAMA ST</td>\n",
       "      <td>Fair</td>\n",
       "      <td>20110529</td>\n",
       "      <td>2237</td>\n",
       "      <td>MONROE AV</td>\n",
       "      <td>ALABAMA ST</td>\n",
       "      <td>0</td>\n",
       "      <td>83</td>\n",
       "      <td>3</td>\n",
       "      <td>A</td>\n",
       "      <td>08</td>\n",
       "      <td>52</td>\n",
       "      <td>A</td>\n",
       "      <td>H</td>\n",
       "    </tr>\n",
       "  </tbody>\n",
       "</table>\n",
       "</div>"
      ],
      "text/plain": [
       "     oci           street   street_from        street_to oci_desc  \\\n",
       "0  39.67  EL PASEO GRANDE   CALLE CLARA       VALLECITOS     Poor   \n",
       "1  86.43     MONTEZUMA RD   COLLWOOD BL   YERBA SANTA DR     Good   \n",
       "2  51.44       MIRAMAR RD  BLACK MTN RD  KEARNY VILLA RD     Fair   \n",
       "3  65.88      EL CAJON BL       46TH ST          46TH ST     Fair   \n",
       "4  51.34        MONROE AV    MISSION AV       ALABAMA ST     Fair   \n",
       "\n",
       "  COLLISION_DATE COLLISION_TIME       PRIMARY_RD     SECONDARY_RD  \\\n",
       "0       20111003           1810  EL PASEO GRANDE      CALLE CLARA   \n",
       "1       20110427           1420     MONTEZUMA RD   YERBA SANTA RD   \n",
       "2       20110518           1030      MIRA MAR RD  KEARNY VILLA RD   \n",
       "3       20110530           1738      EL CAJON BL          36TH ST   \n",
       "4       20110529           2237        MONROE AV       ALABAMA ST   \n",
       "\n",
       "  CHP_BEAT_TYPE WEATHER_1 COLLISION_SEVERITY PRIMARY_COLL_FACTOR  \\\n",
       "0             0        97                  3                   A   \n",
       "1             0        91                  3                   A   \n",
       "2             0        71                  4                   A   \n",
       "3             0        80                  2                   A   \n",
       "4             0        83                  3                   A   \n",
       "\n",
       "  PCF_VIOL_CATEGORY LIGHTING ROAD_SURFACE ROAD_COND_1  \n",
       "0                13       94            A           H  \n",
       "1                08       77            A           H  \n",
       "2                12       79            A           H  \n",
       "3                03       78            A           H  \n",
       "4                08       52            A           H  "
      ]
     },
     "execution_count": 36,
     "metadata": {},
     "output_type": "execute_result"
    }
   ],
   "source": [
    "DF_1.head()"
   ]
  },
  {
   "cell_type": "code",
   "execution_count": 37,
   "metadata": {
    "collapsed": false
   },
   "outputs": [
    {
     "data": {
      "text/html": [
       "<div>\n",
       "<table border=\"1\" class=\"dataframe\">\n",
       "  <thead>\n",
       "    <tr style=\"text-align: right;\">\n",
       "      <th></th>\n",
       "      <th>oci</th>\n",
       "      <th>street</th>\n",
       "      <th>street_from</th>\n",
       "      <th>street_to</th>\n",
       "      <th>oci_desc</th>\n",
       "      <th>COLLISION_DATE</th>\n",
       "      <th>COLLISION_TIME</th>\n",
       "      <th>PRIMARY_RD</th>\n",
       "      <th>SECONDARY_RD</th>\n",
       "      <th>CHP_BEAT_TYPE</th>\n",
       "      <th>WEATHER_1</th>\n",
       "      <th>COLLISION_SEVERITY</th>\n",
       "      <th>PRIMARY_COLL_FACTOR</th>\n",
       "      <th>PCF_VIOL_CATEGORY</th>\n",
       "      <th>LIGHTING</th>\n",
       "      <th>ROAD_SURFACE</th>\n",
       "      <th>ROAD_COND_1</th>\n",
       "    </tr>\n",
       "  </thead>\n",
       "  <tbody>\n",
       "    <tr>\n",
       "      <th>6354</th>\n",
       "      <td>69.86</td>\n",
       "      <td>FRIARS RD</td>\n",
       "      <td>FENTON PY</td>\n",
       "      <td>NORTHSIDE DR</td>\n",
       "      <td>Fair</td>\n",
       "      <td>20141214</td>\n",
       "      <td>1339</td>\n",
       "      <td>FRIARS RD</td>\n",
       "      <td>NSIDE DR</td>\n",
       "      <td>0</td>\n",
       "      <td>73</td>\n",
       "      <td>3</td>\n",
       "      <td>A</td>\n",
       "      <td>03</td>\n",
       "      <td>94</td>\n",
       "      <td>A</td>\n",
       "      <td>H</td>\n",
       "    </tr>\n",
       "    <tr>\n",
       "      <th>6355</th>\n",
       "      <td>61.1</td>\n",
       "      <td>ENRICO FERMI DR</td>\n",
       "      <td>MARCONI DR</td>\n",
       "      <td>VIA DE LA AMISTAD</td>\n",
       "      <td>Fair</td>\n",
       "      <td>20141217</td>\n",
       "      <td>1205</td>\n",
       "      <td>ENRICO FERMI DR</td>\n",
       "      <td>MARCONI DR</td>\n",
       "      <td>0</td>\n",
       "      <td>90</td>\n",
       "      <td>0</td>\n",
       "      <td>A</td>\n",
       "      <td>08</td>\n",
       "      <td>86</td>\n",
       "      <td>A</td>\n",
       "      <td>H</td>\n",
       "    </tr>\n",
       "    <tr>\n",
       "      <th>6356</th>\n",
       "      <td>58.41</td>\n",
       "      <td>OBERLIN DR</td>\n",
       "      <td>SCRANTON RD</td>\n",
       "      <td>YOUNGSTOWN WY</td>\n",
       "      <td>Fair</td>\n",
       "      <td>20140213</td>\n",
       "      <td>1310</td>\n",
       "      <td>OBERLIN DR</td>\n",
       "      <td>SCRANTON RD</td>\n",
       "      <td>0</td>\n",
       "      <td>78</td>\n",
       "      <td>4</td>\n",
       "      <td>A</td>\n",
       "      <td>12</td>\n",
       "      <td>98</td>\n",
       "      <td>A</td>\n",
       "      <td>H</td>\n",
       "    </tr>\n",
       "    <tr>\n",
       "      <th>6357</th>\n",
       "      <td>100</td>\n",
       "      <td>01ST AV</td>\n",
       "      <td>BEECH ST</td>\n",
       "      <td>CEDAR ST</td>\n",
       "      <td>Good</td>\n",
       "      <td>20141023</td>\n",
       "      <td>1311</td>\n",
       "      <td>01ST AV</td>\n",
       "      <td>CEDAR ST</td>\n",
       "      <td>0</td>\n",
       "      <td>73</td>\n",
       "      <td>3</td>\n",
       "      <td>A</td>\n",
       "      <td>-</td>\n",
       "      <td>88</td>\n",
       "      <td>A</td>\n",
       "      <td>H</td>\n",
       "    </tr>\n",
       "    <tr>\n",
       "      <th>6358</th>\n",
       "      <td>61.51</td>\n",
       "      <td>CAM DEL RIO WEST</td>\n",
       "      <td>I-5 SB OFF RA</td>\n",
       "      <td>HANCOCK ST</td>\n",
       "      <td>Fair</td>\n",
       "      <td>20141204</td>\n",
       "      <td>1038</td>\n",
       "      <td>CAMINO DEL RIO W</td>\n",
       "      <td>HANCOCK ST</td>\n",
       "      <td>0</td>\n",
       "      <td>99</td>\n",
       "      <td>4</td>\n",
       "      <td>-</td>\n",
       "      <td>-</td>\n",
       "      <td>70</td>\n",
       "      <td>A</td>\n",
       "      <td>H</td>\n",
       "    </tr>\n",
       "  </tbody>\n",
       "</table>\n",
       "</div>"
      ],
      "text/plain": [
       "        oci            street    street_from          street_to oci_desc  \\\n",
       "6354  69.86         FRIARS RD      FENTON PY       NORTHSIDE DR     Fair   \n",
       "6355   61.1   ENRICO FERMI DR     MARCONI DR  VIA DE LA AMISTAD     Fair   \n",
       "6356  58.41        OBERLIN DR    SCRANTON RD      YOUNGSTOWN WY     Fair   \n",
       "6357    100           01ST AV       BEECH ST           CEDAR ST     Good   \n",
       "6358  61.51  CAM DEL RIO WEST  I-5 SB OFF RA         HANCOCK ST     Fair   \n",
       "\n",
       "     COLLISION_DATE COLLISION_TIME        PRIMARY_RD SECONDARY_RD  \\\n",
       "6354       20141214           1339         FRIARS RD     NSIDE DR   \n",
       "6355       20141217           1205   ENRICO FERMI DR   MARCONI DR   \n",
       "6356       20140213           1310        OBERLIN DR  SCRANTON RD   \n",
       "6357       20141023           1311           01ST AV     CEDAR ST   \n",
       "6358       20141204           1038  CAMINO DEL RIO W   HANCOCK ST   \n",
       "\n",
       "     CHP_BEAT_TYPE WEATHER_1 COLLISION_SEVERITY PRIMARY_COLL_FACTOR  \\\n",
       "6354             0        73                  3                   A   \n",
       "6355             0        90                  0                   A   \n",
       "6356             0        78                  4                   A   \n",
       "6357             0        73                  3                   A   \n",
       "6358             0        99                  4                   -   \n",
       "\n",
       "     PCF_VIOL_CATEGORY LIGHTING ROAD_SURFACE ROAD_COND_1  \n",
       "6354                03       94            A           H  \n",
       "6355                08       86            A           H  \n",
       "6356                12       98            A           H  \n",
       "6357                -        88            A           H  \n",
       "6358                -        70            A           H  "
      ]
     },
     "execution_count": 37,
     "metadata": {},
     "output_type": "execute_result"
    }
   ],
   "source": [
    "DF_1.tail()"
   ]
  },
  {
   "cell_type": "code",
   "execution_count": 38,
   "metadata": {
    "collapsed": false
   },
   "outputs": [
    {
     "data": {
      "text/plain": [
       "72    239\n",
       "98    232\n",
       "97    226\n",
       "73    224\n",
       "88    219\n",
       "91    217\n",
       "81    217\n",
       "95    216\n",
       "77    215\n",
       "84    212\n",
       "74    211\n",
       "76    211\n",
       "96    208\n",
       "93    207\n",
       "89    206\n",
       "78    205\n",
       "70    205\n",
       "85    204\n",
       "92    203\n",
       "75    201\n",
       "87    199\n",
       "99    197\n",
       "90    196\n",
       "71    195\n",
       "82    195\n",
       "86    193\n",
       "80    191\n",
       "83    190\n",
       "94    190\n",
       "79    176\n",
       "     ... \n",
       "1       4\n",
       "19      4\n",
       "23      4\n",
       "6       4\n",
       "26      4\n",
       "27      3\n",
       "7       3\n",
       "2       3\n",
       "32      3\n",
       "21      3\n",
       "33      3\n",
       "17      3\n",
       "16      3\n",
       "11      3\n",
       "3       2\n",
       "9       2\n",
       "10      2\n",
       "0       2\n",
       "13      2\n",
       "18      2\n",
       "22      2\n",
       "24      2\n",
       "28      2\n",
       "14      1\n",
       "20      1\n",
       "25      1\n",
       "5       1\n",
       "31      1\n",
       "38      1\n",
       "36      1\n",
       "Name: WEATHER_1, dtype: int64"
      ]
     },
     "execution_count": 38,
     "metadata": {},
     "output_type": "execute_result"
    }
   ],
   "source": [
    "DF_1.WEATHER_1.value_counts()"
   ]
  },
  {
   "cell_type": "code",
   "execution_count": 39,
   "metadata": {
    "collapsed": false
   },
   "outputs": [
    {
     "data": {
      "text/plain": [
       "95    166\n",
       "70    165\n",
       "97    164\n",
       "99    155\n",
       "76    155\n",
       "75    155\n",
       "93    154\n",
       "71    153\n",
       "81    151\n",
       "74    150\n",
       "96    149\n",
       "77    149\n",
       "78    148\n",
       "88    148\n",
       "85    148\n",
       "98    148\n",
       "91    147\n",
       "92    146\n",
       "84    146\n",
       "80    146\n",
       "73    144\n",
       "79    144\n",
       "86    142\n",
       "89    142\n",
       "82    141\n",
       "87    141\n",
       "94    141\n",
       "90    136\n",
       "83    133\n",
       "72    132\n",
       "     ... \n",
       "25      6\n",
       "11      6\n",
       "0       6\n",
       "36      6\n",
       "26      5\n",
       "39      5\n",
       "5       5\n",
       "30      5\n",
       "8       5\n",
       "14      4\n",
       "37      4\n",
       "4       4\n",
       "35      4\n",
       "10      4\n",
       "13      4\n",
       "15      4\n",
       "17      4\n",
       "29      4\n",
       "22      4\n",
       "24      4\n",
       "32      3\n",
       "34      3\n",
       "9       3\n",
       "20      3\n",
       "28      3\n",
       "38      3\n",
       "27      2\n",
       "21      2\n",
       "16      1\n",
       "19      1\n",
       "Name: LIGHTING, dtype: int64"
      ]
     },
     "execution_count": 39,
     "metadata": {},
     "output_type": "execute_result"
    }
   ],
   "source": [
    "DF_1.LIGHTING.value_counts()"
   ]
  },
  {
   "cell_type": "code",
   "execution_count": 40,
   "metadata": {
    "collapsed": false
   },
   "outputs": [
    {
     "data": {
      "text/plain": [
       "08    1343\n",
       "03    1166\n",
       "09    1068\n",
       "12     750\n",
       "04     356\n",
       "11     330\n",
       "10     289\n",
       "-      257\n",
       "21     210\n",
       "05     140\n",
       "00     114\n",
       "17     109\n",
       "18      72\n",
       "06      46\n",
       "07      37\n",
       "22      35\n",
       "01      19\n",
       "13      10\n",
       "15       3\n",
       "16       2\n",
       "14       2\n",
       "02       1\n",
       "Name: PCF_VIOL_CATEGORY, dtype: int64"
      ]
     },
     "execution_count": 40,
     "metadata": {},
     "output_type": "execute_result"
    }
   ],
   "source": [
    "DF_1.PCF_VIOL_CATEGORY.value_counts() "
   ]
  },
  {
   "cell_type": "code",
   "execution_count": 41,
   "metadata": {
    "collapsed": false
   },
   "outputs": [
    {
     "data": {
      "text/plain": [
       "A    6087\n",
       "D     102\n",
       "C      72\n",
       "-      63\n",
       "B      35\n",
       "Name: PRIMARY_COLL_FACTOR, dtype: int64"
      ]
     },
     "execution_count": 41,
     "metadata": {},
     "output_type": "execute_result"
    }
   ],
   "source": [
    "DF_1.PRIMARY_COLL_FACTOR.value_counts() "
   ]
  },
  {
   "cell_type": "code",
   "execution_count": 42,
   "metadata": {
    "collapsed": false
   },
   "outputs": [
    {
     "data": {
      "text/plain": [
       "Fair    3249\n",
       "Good    1776\n",
       "Poor    1334\n",
       "Name: oci_desc, dtype: int64"
      ]
     },
     "execution_count": 42,
     "metadata": {},
     "output_type": "execute_result"
    }
   ],
   "source": [
    "DF_1.oci_desc.value_counts()"
   ]
  },
  {
   "cell_type": "markdown",
   "metadata": {
    "collapsed": true
   },
   "source": [
    "## Section 3: Data Analysis"
   ]
  },
  {
   "cell_type": "code",
   "execution_count": 44,
   "metadata": {
    "collapsed": false
   },
   "outputs": [
    {
     "data": {
      "image/png": "[encoded data removed]",
      "text/plain": [
       "<matplotlib.figure.Figure at 0x11b85f1d0>"
      ]
     },
     "metadata": {},
     "output_type": "display_data"
    }
   ],
   "source": [
    "# First visualization of data\n",
    "pd.crosstab(DF_1.oci_desc, DF_1.oci).plot.barh(title = \"MVA Frequency vs OCI\", stacked = True)\n",
    "plt.xlabel(\"Frequency of MVA's\")\n",
    "plt.ylabel(\"OCI Description\")\n",
    "plt.legend().set_visible(False)\n",
    "plt.show()"
   ]
  },
  {
   "cell_type": "code",
   "execution_count": 92,
   "metadata": {
    "collapsed": false
   },
   "outputs": [
    {
     "name": "stdout",
     "output_type": "stream",
     "text": [
      "Out of:  6359 accidents\n",
      "27.92891964145306 51.09293914137443 20.97814121717251\n"
     ]
    }
   ],
   "source": [
    "totals = len(DF_1.oci) # Get the dataframe\n",
    "\n",
    "# Get the proportions\n",
    "good_pro = 100 * (len(DF_1.loc[DF_1['oci_desc'] == 'Good']) / totals)\n",
    "fair_pro = 100 * (len(DF_1.loc[DF_1['oci_desc'] == 'Fair']) / totals)\n",
    "poor_pro = 100 * (len(DF_1.loc[DF_1['oci_desc'] == 'Poor']) / totals)\n",
    "\n",
    "# Reporting\n",
    "print(\"Out of: \", totals, \"accidents\")\n",
    "print(good_pro, fair_pro, poor_pro)"
   ]
  },
  {
   "cell_type": "markdown",
   "metadata": {},
   "source": [
    "### Observation 1\n",
    "We first try to find evidence of any correlation between road conditions and possible motor vehicle accidents. In our hypothesis, we argued that there should be a strong correlation from the get go. To visualize this, we plotted the frequency of accidents that occured in each of the category description of OCI. \n",
    "\n",
    "The legend reflects the different OCIs and is ordered from least to greatest with the exception of 100. We can thus see each individual OCI adds up to the total amount of collisions in a single category. \n",
    "\n",
    "There is immediately a huge disparity in the frequency of MVAs when comparing the OCI Descriptions. We see that the amount of fair road accidents eclipse both good and fair accidents. This means that a huge proportion of accidents in our dataset must have occurred on \"fair\" quality roads. "
   ]
  },
  {
   "cell_type": "markdown",
   "metadata": {},
   "source": [
    "## 1 Sample T - Test\n",
    "Since we have some early visualization of data and can see there is an obvious difference with our hypotheis and the street quality / MVA ratio. We decide to test this for significance. \n",
    "\n",
    "To start we set our hypothesis:\n",
    "- Ho: The average OCI of all MVAs is equal to that of low quality streets.\n",
    "- Ha: The average OCI of all MVAs is not equal to that of low quality streets.\n",
    "\n",
    "Inference: \n",
    "- Normality of Data (plt.show() shows roughly normal data)\n",
    "- Indepedence of Data (None of the OCIs depended on each other)\n",
    "- Continuous Data \n",
    "\n",
    "Alpha:\n",
    "- .05"
   ]
  },
  {
   "cell_type": "code",
   "execution_count": 111,
   "metadata": {
    "collapsed": false
   },
   "outputs": [
    {
     "data": {
      "image/png": "[encoded data removed]",
      "text/plain": [
       "<matplotlib.figure.Figure at 0x1484a2198>"
      ]
     },
     "metadata": {},
     "output_type": "display_data"
    },
    {
     "name": "stderr",
     "output_type": "stream",
     "text": [
      "/Users/Starfox/anaconda/lib/python3.6/site-packages/scipy/stats/stats.py:250: RuntimeWarning: The input array could not be properly checked for nan values. nan values will be ignored.\n",
      "  \"values. nan values will be ignored.\", RuntimeWarning)\n"
     ]
    },
    {
     "ename": "TypeError",
     "evalue": "unsupported operand type(s) for /: 'str' and 'int'",
     "output_type": "error",
     "traceback": [
      "\u001b[0;31m---------------------------------------------------------------------------\u001b[0m",
      "\u001b[0;31mTypeError\u001b[0m                                 Traceback (most recent call last)",
      "\u001b[0;32m<ipython-input-111-2f0769e107c9>\u001b[0m in \u001b[0;36m<module>\u001b[0;34m()\u001b[0m\n\u001b[1;32m      5\u001b[0m \u001b[0;34m\u001b[0m\u001b[0m\n\u001b[1;32m      6\u001b[0m \u001b[0;32mfor\u001b[0m \u001b[0mi\u001b[0m \u001b[0;32min\u001b[0m \u001b[0mrange\u001b[0m\u001b[0;34m(\u001b[0m\u001b[0;36m40\u001b[0m\u001b[0;34m)\u001b[0m\u001b[0;34m:\u001b[0m\u001b[0;34m\u001b[0m\u001b[0m\n\u001b[0;32m----> 7\u001b[0;31m     \u001b[0mt_value\u001b[0m\u001b[0;34m,\u001b[0m \u001b[0mp_value_t\u001b[0m \u001b[0;34m=\u001b[0m \u001b[0mstats\u001b[0m\u001b[0;34m.\u001b[0m\u001b[0mttest_1samp\u001b[0m\u001b[0;34m(\u001b[0m\u001b[0mDF_1\u001b[0m\u001b[0;34m[\u001b[0m\u001b[0;34m'oci'\u001b[0m\u001b[0;34m]\u001b[0m\u001b[0;34m,\u001b[0m \u001b[0mi\u001b[0m\u001b[0;34m)\u001b[0m \u001b[0;31m# t test\u001b[0m\u001b[0;34m\u001b[0m\u001b[0m\n\u001b[0m\u001b[1;32m      8\u001b[0m     \u001b[0mprint\u001b[0m\u001b[0;34m(\u001b[0m\u001b[0;34m\"For an OCI with index\"\u001b[0m\u001b[0;34m,\u001b[0m \u001b[0mi\u001b[0m \u001b[0;34m,\u001b[0m \u001b[0;34m\", the t value is\"\u001b[0m\u001b[0;34m,\u001b[0m \u001b[0mt_value\u001b[0m\u001b[0;34m,\u001b[0m \u001b[0;34m\"with a p - value of:\"\u001b[0m\u001b[0;34m,\u001b[0m \u001b[0mp_value_t\u001b[0m\u001b[0;34m)\u001b[0m\u001b[0;34m\u001b[0m\u001b[0m\n",
      "\u001b[0;32m/Users/Starfox/anaconda/lib/python3.6/site-packages/scipy/stats/stats.py\u001b[0m in \u001b[0;36mttest_1samp\u001b[0;34m(a, popmean, axis, nan_policy)\u001b[0m\n\u001b[1;32m   3643\u001b[0m     \u001b[0mdf\u001b[0m \u001b[0;34m=\u001b[0m \u001b[0mn\u001b[0m \u001b[0;34m-\u001b[0m \u001b[0;36m1\u001b[0m\u001b[0;34m\u001b[0m\u001b[0m\n\u001b[1;32m   3644\u001b[0m \u001b[0;34m\u001b[0m\u001b[0m\n\u001b[0;32m-> 3645\u001b[0;31m     \u001b[0md\u001b[0m \u001b[0;34m=\u001b[0m \u001b[0mnp\u001b[0m\u001b[0;34m.\u001b[0m\u001b[0mmean\u001b[0m\u001b[0;34m(\u001b[0m\u001b[0ma\u001b[0m\u001b[0;34m,\u001b[0m \u001b[0maxis\u001b[0m\u001b[0;34m)\u001b[0m \u001b[0;34m-\u001b[0m \u001b[0mpopmean\u001b[0m\u001b[0;34m\u001b[0m\u001b[0m\n\u001b[0m\u001b[1;32m   3646\u001b[0m     \u001b[0mv\u001b[0m \u001b[0;34m=\u001b[0m \u001b[0mnp\u001b[0m\u001b[0;34m.\u001b[0m\u001b[0mvar\u001b[0m\u001b[0;34m(\u001b[0m\u001b[0ma\u001b[0m\u001b[0;34m,\u001b[0m \u001b[0maxis\u001b[0m\u001b[0;34m,\u001b[0m \u001b[0mddof\u001b[0m\u001b[0;34m=\u001b[0m\u001b[0;36m1\u001b[0m\u001b[0;34m)\u001b[0m\u001b[0;34m\u001b[0m\u001b[0m\n\u001b[1;32m   3647\u001b[0m     \u001b[0mdenom\u001b[0m \u001b[0;34m=\u001b[0m \u001b[0mnp\u001b[0m\u001b[0;34m.\u001b[0m\u001b[0msqrt\u001b[0m\u001b[0;34m(\u001b[0m\u001b[0mv\u001b[0m \u001b[0;34m/\u001b[0m \u001b[0mfloat\u001b[0m\u001b[0;34m(\u001b[0m\u001b[0mn\u001b[0m\u001b[0;34m)\u001b[0m\u001b[0;34m)\u001b[0m\u001b[0;34m\u001b[0m\u001b[0m\n",
      "\u001b[0;32m/Users/Starfox/anaconda/lib/python3.6/site-packages/numpy/core/fromnumeric.py\u001b[0m in \u001b[0;36mmean\u001b[0;34m(a, axis, dtype, out, keepdims)\u001b[0m\n\u001b[1;32m   2940\u001b[0m \u001b[0;34m\u001b[0m\u001b[0m\n\u001b[1;32m   2941\u001b[0m     return _methods._mean(a, axis=axis, dtype=dtype,\n\u001b[0;32m-> 2942\u001b[0;31m                             out=out, **kwargs)\n\u001b[0m\u001b[1;32m   2943\u001b[0m \u001b[0;34m\u001b[0m\u001b[0m\n\u001b[1;32m   2944\u001b[0m \u001b[0;34m\u001b[0m\u001b[0m\n",
      "\u001b[0;32m/Users/Starfox/anaconda/lib/python3.6/site-packages/numpy/core/_methods.py\u001b[0m in \u001b[0;36m_mean\u001b[0;34m(a, axis, dtype, out, keepdims)\u001b[0m\n\u001b[1;32m     70\u001b[0m         \u001b[0mret\u001b[0m \u001b[0;34m=\u001b[0m \u001b[0mret\u001b[0m\u001b[0;34m.\u001b[0m\u001b[0mdtype\u001b[0m\u001b[0;34m.\u001b[0m\u001b[0mtype\u001b[0m\u001b[0;34m(\u001b[0m\u001b[0mret\u001b[0m \u001b[0;34m/\u001b[0m \u001b[0mrcount\u001b[0m\u001b[0;34m)\u001b[0m\u001b[0;34m\u001b[0m\u001b[0m\n\u001b[1;32m     71\u001b[0m     \u001b[0;32melse\u001b[0m\u001b[0;34m:\u001b[0m\u001b[0;34m\u001b[0m\u001b[0m\n\u001b[0;32m---> 72\u001b[0;31m         \u001b[0mret\u001b[0m \u001b[0;34m=\u001b[0m \u001b[0mret\u001b[0m \u001b[0;34m/\u001b[0m \u001b[0mrcount\u001b[0m\u001b[0;34m\u001b[0m\u001b[0m\n\u001b[0m\u001b[1;32m     73\u001b[0m \u001b[0;34m\u001b[0m\u001b[0m\n\u001b[1;32m     74\u001b[0m     \u001b[0;32mreturn\u001b[0m \u001b[0mret\u001b[0m\u001b[0;34m\u001b[0m\u001b[0m\n",
      "\u001b[0;31mTypeError\u001b[0m: unsupported operand type(s) for /: 'str' and 'int'"
     ]
    }
   ],
   "source": [
    "plt.hist(DF_1['oci_desc'] == 'Fair') # show normality\n",
    "plt.xlabel('OCI Index')\n",
    "plt.ylabel('MVAs')\n",
    "plt.show()    \n",
    "\n",
    "for i in range(40):\n",
    "    t_value, p_value_t = stats.ttest_1samp(DF_1['oci'], i) # t test\n",
    "    print(\"For an OCI with index\", i , \", the t value is\", t_value, \"with a p - value of:\", p_value_t)"
   ]
  },
  {
   "cell_type": "markdown",
   "metadata": {},
   "source": [
    "### Observation 2 (of test)\n",
    "It turns out that of all the motor vehicle accidents in our dataset, about half of the MVAs occurred on streets with \"fair\" OCI rating. Furthermore, the amount of MVAs for \"good\" and \"poor\" rated streets are around the same proportions. \n",
    "\n",
    "With a significance test to see if the OCI mean accidents is equivalent to any of that of poor streets, we have significant evidence at the .05 alpha level suggesting that the average of all the OCIs recorded with MVAs could not be equal to that of poor quality streets. \n",
    "\n",
    "This leads us to believe that there must be other factors worth looking into that can explain the causation of these motor vehicle accidents rather than just mere street conditions."
   ]
  },
  {
   "cell_type": "code",
   "execution_count": null,
   "metadata": {
    "collapsed": true
   },
   "outputs": [],
   "source": [
    "plt.subplot(2,1,1)\n",
    "DF.WEATHER_1.value_counts().plot.barh(color = 'r')\n",
    "plt.xlabel('Amount of Motor Vehicle Accidents')\n",
    "plt.ylabel('Weather Condition')\n",
    "plt.show()\n",
    "\n",
    "plt.subplot(2,1,2)\n",
    "DF.LIGHTING.value_counts().plot.barh(color = 'b')\n",
    "plt.xlabel('Amount of Motor Vehicle Accidents')\n",
    "plt.ylabel('Lighting Condtion')\n",
    "plt.show()"
   ]
  },
  {
   "cell_type": "markdown",
   "metadata": {},
   "source": [
    "## Chi - Squared Test for Independence: \n",
    "We want to see if there is a actually an impact of lighting and weather for the fair and poor streets. We believe that lighting would play a more impact on the more dangerous roads. \n",
    "\n",
    "To start we set our hypothesis:\n",
    "- Ho: There is no association between OCI quality (fair and poor) and street lighting or adverse weather conditions.\n",
    "- Ha: There is an association between OCI quality (fair and poor) and street lighting or adverse weather conditions. \n",
    "\n",
    "Inference: \n",
    "- Two or more categorical groups for each data cell (Accident types).\n",
    "- Large Sample Size: Frequencies are at least 1, at least 5 for majority of cells.\n",
    "- Data is independent: These data sets do not depend on one another.\n",
    "\n",
    "Alpha:\n",
    "- .05"
   ]
  },
  {
   "cell_type": "code",
   "execution_count": null,
   "metadata": {
    "collapsed": true
   },
   "outputs": [],
   "source": [
    "row_1 = [] # Initialize 2 rows to see \n",
    "row_2 = []\n",
    "\n",
    "## Looping over the observed values\n",
    "for i in range(1):\n",
    "    row_1.append(len(DF.loc[(DF['oci_desc'] == DF['oci_desc'].value_counts().index[0]) \n",
    "                           & (DF['LIGHTING'] == 'C')]))\n",
    "    row_2.append(len(DF.loc[(DF['oci_desc'] == DF['oci_desc'].value_counts().index[0]) \n",
    "                           & (DF['WEATHER_1'] == 'B')]))\n",
    "\n",
    "for i in range(1):\n",
    "    row_1.append(len(DF.loc[(DF['oci_desc'] == DF['oci_desc'].value_counts().index[2]) \n",
    "                           & (DF['LIGHTING'] == 'C')]))\n",
    "    row_2.append(len(DF.loc[(DF['oci_desc'] == DF['oci_desc'].value_counts().index[2]) \n",
    "                           & (DF['WEATHER_1'] == 'B')]))\n",
    "\n",
    "row_1 = list(filter(lambda a: a != 0, row_1)) # Removing outliers from expected value\n",
    "row_2 = list(filter(lambda a: a != 0, row_2))\n",
    "\n",
    "x_squared_data_1 = [row_1,row_2] # Combining the observed results\n",
    "x_squared_value_1, x_p_value_1, x_df_1, x_expected_array_1 = chi2_contingency(x_squared_data_1, correction=False)\n",
    "\n",
    "print(\"The chi-squred value is:\", x_squared_value_1, \"and the p - value is:\", x_p_value_1, \"with\", x_df_1, \"degrees of freedom\")"
   ]
  },
  {
   "cell_type": "markdown",
   "metadata": {},
   "source": [
    "We do not have significant evidence at the .05 level. With the p - value > .1, we have evidence that even the quality of OCI is independent of lighting and weather effects on a motor vehicle accident. Thus, we have to look into other variables to investigate. "
   ]
  },
  {
   "cell_type": "markdown",
   "metadata": {},
   "source": [
    "### Observation 3\n",
    "Since we have strong evidence against our hypothesis, we move into exploring other variables in our dataframe that could potentially cause MVAs. We examine factors such as lighting and weather conditions in this new case. We don't consider the collision factor because we are focusing on motor vehicle accidents.\n",
    "\n",
    "Based on the Statewide Integrated Traffic Records System (SWITRS), a [legend] was re-engineered beginning with collisions dated January 2002.  As part of this re-engineering, they have changed the format of the raw data provided upon request to SWITRS data users:\n",
    "\n",
    "Weather_1: the weather condition at the time of the collision\n",
    "\n",
    "A - Clear\n",
    "B - Cloudy\n",
    "C - Raining\n",
    "D - Snowing\n",
    "E - Fog\n",
    "F - Other\n",
    "G - Wind\n",
    "-- Not Stated\n",
    "\n",
    "Lighting: The amount of light present at the collision\n",
    "\n",
    "A - Daylight\n",
    "B - Dusk - Dawn\n",
    "C - Dark - Street Lights\n",
    "D - Dark - No Street Lights\n",
    "E - Dark - Street Lights Not Functioning\n",
    "-- Not Stated\n",
    "\n",
    "It seems that most of the MVA collisions occurred in either clear (A) or cloudy (B) weather, so weather doesn't appear to make a strong impact as we would expect. We move onto lighting and notice that not all accidents occurred in broad daylight. A sizeable portion of these collisions seem to appear at night with streetlights on (C). \n"
   ]
  },
  {
   "cell_type": "markdown",
   "metadata": {},
   "source": [
    "### Observation 4\n"
   ]
  },
  {
   "cell_type": "code",
   "execution_count": null,
   "metadata": {
    "collapsed": true
   },
   "outputs": [],
   "source": [
    "print(len(DF.loc[(DF['PCF_VIOL_CATEGORY'] == '08') & (DF['LIGHTING'] == 'C')]) / len(DF.loc[(DF['PCF_VIOL_CATEGORY'] == '08')]))\n",
    "print(len(DF.loc[(DF['PCF_VIOL_CATEGORY'] == '03') & (DF['LIGHTING'] == 'C')]) / len(DF.loc[(DF['PCF_VIOL_CATEGORY'] == '03')]))\n",
    "print(len(DF.loc[(DF['PCF_VIOL_CATEGORY'] == '09') & (DF['LIGHTING'] == 'C')]) / len(DF.loc[(DF['PCF_VIOL_CATEGORY'] == '09')]))"
   ]
  },
  {
   "cell_type": "code",
   "execution_count": null,
   "metadata": {
    "collapsed": true
   },
   "outputs": [],
   "source": [
    "DF_EX4 = DF.loc[(DF['PCF_VIOL_CATEGORY'] == '08') | (DF['PCF_VIOL_CATEGORY'] == '03') \n",
    "                | (DF['PCF_VIOL_CATEGORY'] == '09') | (DF['PCF_VIOL_CATEGORY'] == '12')\n",
    "                | (DF['PCF_VIOL_CATEGORY'] == '04') | (DF['PCF_VIOL_CATEGORY'] == '11')\n",
    "                | (DF['PCF_VIOL_CATEGORY'] == '10') | (DF['PCF_VIOL_CATEGORY'] == '05')\n",
    "                | (DF['PCF_VIOL_CATEGORY'] == '17') | (DF['PCF_VIOL_CATEGORY'] == '18')\n",
    "                | (DF['PCF_VIOL_CATEGORY'] == '06') | (DF['PCF_VIOL_CATEGORY'] == '07')\n",
    "                | (DF['PCF_VIOL_CATEGORY'] == '22') | (DF['PCF_VIOL_CATEGORY'] == '01')\n",
    "                | (DF['PCF_VIOL_CATEGORY'] == '13') | (DF['PCF_VIOL_CATEGORY'] == '16')\n",
    "                | (DF['PCF_VIOL_CATEGORY'] == '15') | (DF['PCF_VIOL_CATEGORY'] == '14')\n",
    "                | (DF['PCF_VIOL_CATEGORY'] == '02')]\n",
    "\n",
    "\n",
    "DF_OB4 = DF.loc[(DF['PCF_VIOL_CATEGORY'] == '08') & (DF['LIGHTING'] == 'C') | \n",
    "                (DF['PCF_VIOL_CATEGORY'] == '03') & (DF['LIGHTING'] == 'C') | \n",
    "                (DF['PCF_VIOL_CATEGORY'] == '09') & (DF['LIGHTING'] == 'C') |\n",
    "                (DF['PCF_VIOL_CATEGORY'] == '12') & (DF['LIGHTING'] == 'C') |\n",
    "                (DF['PCF_VIOL_CATEGORY'] == '04') & (DF['LIGHTING'] == 'C') |\n",
    "                (DF['PCF_VIOL_CATEGORY'] == '11') & (DF['LIGHTING'] == 'C') |\n",
    "                (DF['PCF_VIOL_CATEGORY'] == '10') & (DF['LIGHTING'] == 'C') |\n",
    "                (DF['PCF_VIOL_CATEGORY'] == '05') & (DF['LIGHTING'] == 'C') \n",
    "                | (DF['PCF_VIOL_CATEGORY'] == '17') & (DF['LIGHTING'] == 'C')\n",
    "                | (DF['PCF_VIOL_CATEGORY'] == '18') & (DF['LIGHTING'] == 'C')\n",
    "                | (DF['PCF_VIOL_CATEGORY'] == '06') & (DF['LIGHTING'] == 'C')\n",
    "                | (DF['PCF_VIOL_CATEGORY'] == '07') & (DF['LIGHTING'] == 'C')\n",
    "                | (DF['PCF_VIOL_CATEGORY'] == '22') & (DF['LIGHTING'] == 'C')\n",
    "                | (DF['PCF_VIOL_CATEGORY'] == '01') & (DF['LIGHTING'] == 'C')\n",
    "                | (DF['PCF_VIOL_CATEGORY'] == '13') & (DF['LIGHTING'] == 'C')\n",
    "                | (DF['PCF_VIOL_CATEGORY'] == '16') & (DF['LIGHTING'] == 'C')\n",
    "                | (DF['PCF_VIOL_CATEGORY'] == '15') & (DF['LIGHTING'] == 'C')\n",
    "                | (DF['PCF_VIOL_CATEGORY'] == '14') & (DF['LIGHTING'] == 'C')\n",
    "                | (DF['PCF_VIOL_CATEGORY'] == '02') & (DF['LIGHTING'] == 'C')] \n",
    "\n",
    "\n",
    "DF_EX4.PCF_VIOL_CATEGORY.value_counts().plot(color = 'r', label = 'Overall')\n",
    "DF_OB4.PCF_VIOL_CATEGORY.value_counts().plot(color = 'y', label = 'Street Lights On')\n",
    "plt.xlabel(\"Collision Violation\")\n",
    "plt.ylabel(\"Frequency of Collision\")\n",
    "plt.legend()\n",
    "plt.show()"
   ]
  },
  {
   "cell_type": "markdown",
   "metadata": {},
   "source": [
    "## Chi - Squared Test for Independence\n",
    "We want to further investigate and see if there is any possible association between street lighting and adverse weather conditions on MVAs. We can do this by using the Chi Squared test for independence on the total types of accidents occurred. This allows us to see if the accidents that occurred could possibly be dependent on the street lighting and weather. \n",
    "\n",
    "To start we set our hypothesis:\n",
    "- Ho: There is no association between MVA's and street lighting or adverse weather conditions.\n",
    "- Ha: There is an association between MVA's and street lighting or adverse weather conditions. \n",
    "\n",
    "Inference: \n",
    "- Two or more categorical groups for each data cell (Accident types).\n",
    "- Large Sample Size: Frequencies are at least 1, at least 5 for majority of cells.\n",
    "- Data is independent: These data sets do not depend on one another.\n",
    "\n",
    "Alpha:\n",
    "- .05"
   ]
  },
  {
   "cell_type": "code",
   "execution_count": 112,
   "metadata": {
    "collapsed": false
   },
   "outputs": [
    {
     "ename": "NameError",
     "evalue": "name 'DF' is not defined",
     "output_type": "error",
     "traceback": [
      "\u001b[0;31m---------------------------------------------------------------------------\u001b[0m",
      "\u001b[0;31mNameError\u001b[0m                                 Traceback (most recent call last)",
      "\u001b[0;32m<ipython-input-112-3645221aa8f2>\u001b[0m in \u001b[0;36m<module>\u001b[0;34m()\u001b[0m\n\u001b[1;32m      3\u001b[0m \u001b[0;34m\u001b[0m\u001b[0m\n\u001b[1;32m      4\u001b[0m \u001b[0;31m## Looping over the observed values\u001b[0m\u001b[0;34m\u001b[0m\u001b[0;34m\u001b[0m\u001b[0m\n\u001b[0;32m----> 5\u001b[0;31m \u001b[0;32mfor\u001b[0m \u001b[0mi\u001b[0m \u001b[0;32min\u001b[0m \u001b[0mrange\u001b[0m\u001b[0;34m(\u001b[0m\u001b[0mlen\u001b[0m\u001b[0;34m(\u001b[0m\u001b[0mDF\u001b[0m\u001b[0;34m[\u001b[0m\u001b[0;34m'PCF_VIOL_CATEGORY'\u001b[0m\u001b[0;34m]\u001b[0m\u001b[0;34m.\u001b[0m\u001b[0mvalue_counts\u001b[0m\u001b[0;34m(\u001b[0m\u001b[0;34m)\u001b[0m\u001b[0;34m)\u001b[0m\u001b[0;34m)\u001b[0m\u001b[0;34m:\u001b[0m\u001b[0;34m\u001b[0m\u001b[0m\n\u001b[0m\u001b[1;32m      6\u001b[0m     row1.append(len(DF.loc[(DF['PCF_VIOL_CATEGORY'] == DF['PCF_VIOL_CATEGORY'].value_counts().index[i]) \n\u001b[1;32m      7\u001b[0m                            & (DF['LIGHTING'] == 'C')]))\n",
      "\u001b[0;31mNameError\u001b[0m: name 'DF' is not defined"
     ]
    }
   ],
   "source": [
    "row1 = [] # Initialize 2 rows to see \n",
    "row2 = []\n",
    "\n",
    "## Looping over the observed values\n",
    "for i in range(len(DF['PCF_VIOL_CATEGORY'].value_counts())):\n",
    "    row1.append(len(DF.loc[(DF['PCF_VIOL_CATEGORY'] == DF['PCF_VIOL_CATEGORY'].value_counts().index[i]) \n",
    "                           & (DF['LIGHTING'] == 'C')]))\n",
    "    row2.append(len(DF.loc[(DF['PCF_VIOL_CATEGORY'] == DF['PCF_VIOL_CATEGORY'].value_counts().index[i]) \n",
    "                           & (DF['WEATHER_1'] == 'B')]))\n",
    "\n",
    "row1 = list(filter(lambda a: a != 0, row1)) # Removing outliers from expected value\n",
    "row2 = list(filter(lambda a: a != 0, row2))\n",
    "\n",
    "x_squared_data = [row1,row2] # Combining the observed results\n",
    "x_squared_value, x_p_value, x_df, x_expected_array = chi2_contingency(x_squared_data, correction=False)\n",
    "\n",
    "print(\"The chi-squred value is:\", x_squared_value, \"and the p - value is:\", x_p_value, \"with\", x_df, \"degrees of freedom\")"
   ]
  },
  {
   "cell_type": "markdown",
   "metadata": {},
   "source": [
    "### Observation 5 (of test): \n",
    "Based on the p value, there is significant evidence at the .05 level to reject the null hypothesis. With a p value < .05 there is strong evidence that suggests that there is an association between MVA accidents and adverse weather and lighting conditions. \n",
    "\n",
    "This means that there could be more variance in the type of accidents that occurred with  "
   ]
  },
  {
   "cell_type": "code",
   "execution_count": null,
   "metadata": {
    "collapsed": true
   },
   "outputs": [],
   "source": [
    "DF.PCF_VIOL_CATEGORY.value_counts().plot.bar(color = 'orange')\n",
    "plt.xlabel('Type of Accident')\n",
    "plt.ylabel('Frequency')\n",
    "plt.show()"
   ]
  },
  {
   "cell_type": "markdown",
   "metadata": {},
   "source": [
    "### Observation 6\n",
    "Finally, we move onto the types of accidents that occur. Based on the Statewide Integrated Traffic Records System (SWITRS), the type of accidents that usual occur are:\n",
    "\n",
    "- 01 - Driving or Bicycling Under the Influence of Alcohol or Drug\n",
    "- 02 - Impeding Traffic\n",
    "- 03 - Unsafe Speed\n",
    "- 04 - Following Too Closely\n",
    "- 05 - Wrong Side of Road\n",
    "- 06 - Improper Passing\n",
    "- 07 - Unsafe Lane Change\n",
    "- 08 - Improper Turning\n",
    "- 09 - Automobile Right of Way\n",
    "- 10 - Pedestrian Right of Way\n",
    "- 11 - Pedestrian Violation\n",
    "- 12 - Traffic Signals and Signs\n",
    "- 13 - Hazardous Parking\n",
    "- 14 - Lights\n",
    "- 15 - Brakes\n",
    "- 16 - Other Equipment\n",
    "- 17 - Other Hazardous Violation\n",
    "- 18 - Other Than Driver (or Pedestrian)\n",
    "- 19 - Unknown\n",
    "- 20 - Unkown\n",
    "- 21 - Unsafe Starting or Backing\n",
    "- 22 - Other Improper Driving\n",
    "- 23 - Pedestrian or \"Other\" Under the Influence of Alcohol or Drug\n",
    "- 24 - Fell Asleep\n",
    "- 00 - Unknown\n",
    "- -- Not Stated\n",
    "\n",
    "On the above chart, we see the majority of the \"techinical\" accidents [08 -> 04] be more right skewed whereas the more environmentally operation accidents (EOA) [11 -> 02] seem to occur less frequently. With the information from the collision violation vs frequency of collision graph and the chi squared test, we can start to infer the EOA type accidents would seem to rely on the lighting of the situation whereas the techinical accidents don't. The results of our study seem to indicate that though accidents could be caused by the infrastructure (lighting), the majority of accidents happen outside of these variables. "
   ]
  },
  {
   "cell_type": "markdown",
   "metadata": {
    "collapsed": true
   },
   "source": [
    "## Discussion \n",
    "\n",
    "From our data so far, we can say based on the chi-square statistical analysis that there is likely very little correlation between OCI, weather, and lighting (p-value=0.968620556964), we can assume that there may be a connection between MVAs, lighting, and weather (p-value=0.00480520182373). However, in order to truly provide evidence against our initial hypothesis, we need to conduct statistical analysis of the relationship between OCI and MVAs. This is a fundamental constituent of our study that we unfortunately have to spend more time on during the week before presentation and project submission, simply due to the fact that this project is very much a learning experience for every single one of us in the group. In addition to this, statistical analyis should, and will be done on types of accidents, and their relations to weather, lighting, and OCI. In regards to a solution, it would be far-stretched to assume that any 'solution' given at this time adequately represents the end solution to our project. The truth of the matter is that we have technically not provided enough evidence to uphold the null hypothesis (which states that our initial hypothesis is wrong), and because of this, we can not provide a solid solution to anything. The only inkling of correlation that occurs in our study is between MVAs, lighting, and weather. Any solution in this regard would be oriented around distributed a greater amount of funds to more appropriate lighting, or even perhaps funding towards providing the city of San Diego with better information on how to cope with weather while operating vehicles and employ safer techniques while driving. But again, to suggest that this an actual solution at this time would be shortsighted and a complete disregard to the further work that needs to be done for our project. While the analysis has been difficult in areas, there is some good indication that we find, not just influences of MVAs, but influences that can be addressed by the city of San Diego itself--Especially if our statistical analyis follows the trend of highlighting correlations between MVAs, lighting, and weather like it has been. In the interim, though, our group will seek the help of our TAs and professor in regards to running statistical analysis of OCI relative to MVAs. Once this is completed, we will be able to confidently move towards our alternative hypothesis, or even search for other influences that coincide more with our null hypothesis (such as weather and lighting). "
   ]
  }
 ],
 "metadata": {
  "kernelspec": {
   "display_name": "Python 3",
   "language": "python",
   "name": "python3"
  },
  "language_info": {
   "codemirror_mode": {
    "name": "ipython",
    "version": 3
   },
   "file_extension": ".py",
   "mimetype": "text/x-python",
   "name": "python",
   "nbconvert_exporter": "python",
   "pygments_lexer": "ipython3",
   "version": "3.6.0"
  }
 },
 "nbformat": 4,
 "nbformat_minor": 2
}
