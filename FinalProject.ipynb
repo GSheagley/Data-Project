{
 "cells": [
  {
   "cell_type": "code",
   "execution_count": null,
   "metadata": {
    "collapsed": true
   },
   "outputs": [],
   "source": []
  },
  {
   "cell_type": "raw",
   "metadata": {},
   "source": [
    "# State of San Diego Infrastructure\n",
    "##### COGS 108 Final Project by : Anaelle Braine, Grant Sheagley, Dylan Christiano, Shawn Le"
   ]
  },
  {
   "cell_type": "code",
   "execution_count": 1,
   "metadata": {
    "collapsed": true
   },
   "outputs": [],
   "source": [
    "# Imports: Tools we will need to use for cleaning and analysis of question\n",
    "import numpy as np \n",
    "import pandas as pd \n",
    "import matplotlib.pyplot as plt \n",
    "import re \n",
    "import difflib "
   ]
  },
  {
   "cell_type": "code",
   "execution_count": null,
   "metadata": {
    "collapsed": false
   },
   "outputs": [],
   "source": []
  },
  {
   "cell_type": "markdown",
   "metadata": {},
   "source": [
    "## Background\n",
    "\n",
    "The background of our research question originates from each members' inherent interest in the prevalence of Motor Vehicle Accidents (MVA) within the United States as a whole. Considering the fact that there is such a high prevalence of MVAs in the US, it was hard for each of us within this research group to not question why this might occur in the first place. As soon as we identified the fact that this is the research question we would be investigating from the perspective of data science, we immediately started looking for any public information regarding MVAs, but more specifically, MVAs within the city of San Diego. After some deep research, we were able to find said data, and from these sources, we started to build up on our ideas regarding how we would analyze and integrate the data into a presentable form."
   ]
  },
  {
   "cell_type": "code",
   "execution_count": null,
   "metadata": {
    "collapsed": true
   },
   "outputs": [],
   "source": []
  },
  {
   "cell_type": "markdown",
   "metadata": {},
   "source": [
    "## Research Question\n",
    "\n",
    "Our research question concerns the following: Are there implicit determinants of MVAs in the city of San Diego? In our project, we look into data regarding weather, infrastructural integrity, and the specific characteristics of the individuals involved in the accidents in question (e.g. were said individuals under the influence during the MVA).  "
   ]
  },
  {
   "cell_type": "markdown",
   "metadata": {},
   "source": [
    "## Significance\n",
    "\n",
    "Our research inherently deals with accidents that directly affect people in a way that is potentially harmful, not just to the infrastrucutre in San Diego, but also to the livelihood of the individuals involved in the accidents themselves. Any time there is a MVA, there is a chance that there is physical harm done, and that said physical harm may haven been partly due to the conditions surrounding the accident itself, such as potholes, poor lighting, etc. The importance we, as a group, see in this project is oriented around the possibility that doing data analysis and showing statistics on MVAs and their corresponding conditions could potentially reveal ways in which the San Diego can better prevent these accidents from occurring. For example, if we happen find a correlation between poor lighting and higher occurences of MVAs, then it may provide the initiative to investigate these areas and even potentially replace said lighting. Or if we happen to find an area of San Diego that has a high rate of MVAs while under the influence, then this could also be used to better gauge where there needs to be patrolling done to identify and prevent these forms of MVAs."
   ]
  },
  {
   "cell_type": "markdown",
   "metadata": {},
   "source": [
    "## Hypothesis\n",
    "\n",
    "Our prediction as a group is that there will be a strong correlation between poor street conditions and MVAs (i.e. the more worse the street condition, the more MVA's there will be). We came to form this hypothesis as a byproduct of the inherent assumption that accidents are more probable in areas where the conditions at hand are less than optimal in creating an environment that ensures easier transportation. In other words, our hypothesis was formed simply because it seemed more logical to assume that poor conditions are more likely to hold accidents than conditions that do not have such poor conditions. These conditions will be defined by Overall Condition Index (OCI): \n",
    "\n",
    "\"Good\" street conditions are defined as follows: A street in this category has little or no cracking, minor potholes, or other distresses. It has excellent drivability and needs little maintenance or remedial repair. A street in good condition has an OCI rating between 70 and 100. \n",
    "\n",
    "\"Fair\" street conditions are defined as follows: A street in this category has moderate cracking, some minor potholes and has adequate drivability. It is typically in need of remedial repairs and a slurry seal. A street in fair condition has an OCI rating between 40 and 69. \n",
    "\n",
    "\"Poor\" conditions are defined as follows: A street in this category has severe cracking, numerous areas of failed pavement with possible sub base failure, and exhibits a rough ride. It qualifies for a comprehensive repair or a total reconstruction – meaning that a street may be replaced from the ground up if conditions warrant that effort. A street in poor condition has an OCI rating between 0 and 39. \n",
    "\n",
    "However, there is also the possibility that MVAs within San Diego have implications regarding a variety of different characteristics of the city itself. There may also be additional problems besides infrastructure, such as the nature of obtaining drivers licenses, or maybe even the state in which drivers are operating the vehicles themselves."
   ]
  },
  {
   "cell_type": "markdown",
   "metadata": {},
   "source": [
    "## Potential Solutions\n",
    "\n",
    "There are many potential answers to the variety of different problems inherent within our research question. Having MVA's be strictly related to street conditions seems highly unlikely. Thus, our answers could be oriented around distributing more money towards things that improve infrastructure, or it could be dealing with issues regarding the nature of transportation (e.g. there needs to be more money put into public transportation). Or our answers could revolve around the potential issues oriented around the process of obtaining drivers licenses within the United States."
   ]
  },
  {
   "cell_type": "markdown",
   "metadata": {},
   "source": [
    "## Potential Confounds\n",
    "\n",
    "There are a variety of potential confounds when it comes to our data project. When it comes to determining why accidents occur within San Diego, or even as a whole, we as a group could potentially be dealing with a lot more than just variables regarding time, age, and location. In fact, you could be dealing with the mentality inherent in American culture. For example, a variable that could affect the level of car crashes in San Diego could be oriented around the fact that Americans are inherently more attracted to the idea of owning and operating their own vehicles, in comparison to European culture, which is more heavily reliant on public transportation. Another potential confound could deal with the way in which motor vehicle companies have monopolized the way in which Americans travel in the first place. For example, General Motors bought out many forms of public transportation within the Los Angeles area, which inevitably forced residents to purchase vehicles instead of using public transportation. Regardless, the variables mentioned above would be extremely hard to do actual data analysis on, considering the fact that there really is not any kind of relevant data oriented around these two topics, despite the fact that they could be potentially influencing our research question."
   ]
  },
  {
   "cell_type": "markdown",
   "metadata": {},
   "source": [
    "## Research after Hypothesis:\n",
    "\n",
    "If our hypothesis, which is that there will be a strong correlation between poor street conditions and MVAs, ends up being incorrect, then we as a group will investigate further into the nature of the incidents themselves. Rather than look into the infrastructure as a possible influence in MVAs in San Diego, we will end up investigating the other factors in which these MVAs occurred, and whether or not the MVAs were oriented in any way around whether or not operators of the vehicles were under the influence."
   ]
  },
  {
   "cell_type": "markdown",
   "metadata": {},
   "source": [
    "## Section 1: Loading and Cleaning the Data process"
   ]
  },
  {
   "cell_type": "markdown",
   "metadata": {},
   "source": [
    "The main variable that we will judge whether or not a street is safe or not, is the OCI. From streets.sandiego.gov, \n",
    "\n",
    "The 100-point OCI rating system the City [San Diego] uses classifies streets into one of three categories:\n",
    "Good - A street in this category has little or no cracking, minor potholes, or other distresses. It has excellent drivability and needs little maintenance or remedial repair. A street in good condition has an OCI rating between: 70 and 100.\n",
    "\n",
    "Fair - A street in this category has moderate cracking, some minor potholes and has adequate drivability. It is typically in need of remedial repairs and a slurry seal. A street in fair condition has an OCI rating between:\n",
    "40 and 69.\n",
    "\n",
    "Poor - A street in this category has severe cracking, numerous areas of failed pavement with possible sub base failure, and exhibits a rough ride. It qualifies for a comprehensive repair or a total reconstruction – meaning that a street may be replaced from the ground up if conditions warrant that effort. A street in poor condition has an OCI rating between:\n",
    "0 and 39.\n",
    "\n",
    "In essence, we will be using this index to first investigate our hypothesis and find a possible correlation between street conditions [OCI] and motor vehicle accidents [Frequency]. Once we have evidence for or against our hypothesis, we can then move onto exploring other factors that contribute to MVAs.\n",
    "\n",
    "We accomplish this by drawing OCI data and MVA collision data over a period of 5 years from the city of San Diego via their official website and combining them into a single dataframe to analyze. \n",
    "\n",
    "We can create this single dataframe by matching an OCI with the street in which an accident occured:"
   ]
  },
  {
   "cell_type": "markdown",
   "metadata": {},
   "source": [
    "### Step A.\n",
    "Functions that will be used to clean the data (Name of the roads, deleteting rows with specific conditions etc)\n",
    "In a more general matter, there are many ways to write the same thing, like an Interstate road or Street or Avenue etc .. The idea is to make it all look more or less the same to be able to handle the data better - Some cases must have been missed, mainly because of typing errors that we can't easily take into account.\n",
    "Cleaning the data: removing things such as highways and accidents that did not occur on a street of the offical OC. We do this to keep consistency with the datasets. Also removing any cases where the accident occur under the influence of drugs or alcohol \n",
    "\n",
    "The second part loads the data and sends it to the cleaning function. "
   ]
  },
  {
   "cell_type": "code",
   "execution_count": 2,
   "metadata": {
    "collapsed": false
   },
   "outputs": [],
   "source": [
    "def cleaning(MVA_DF):\n",
    "    print(\"original size : \", len(MVA_DF))\n",
    "    MVA_DF= MVA_DF.reset_index(drop=True)\n",
    "    reg = re.compile(\"((.*)?I(-|\\s)?(-|\\s)?\\d+)(.*)?|(.*)?((S|R)(.)?(R|T)(.)?(\\s)?\\d+)(.*)?\")\n",
    "    count = 0\n",
    "    pattern_digitAV = re.compile(\"^(^[0-9])([A-Z].*)\") #If start with one digit and followed by str\n",
    "    dico = {\"HWY\" : \"HY\", \"RT \" : \"I-\",\"INTERSTATE \": \"I-\",\"STATE ROUTE \": \"I-\",\"STREET\": \"ST\",\"AVENUE\":\"AV\",\"AVE\":\"AV\"} \n",
    "    for i in range(len(MVA_DF)) : #When finished, len(DF)\n",
    "        #print(\"ONE  : \",(MVA_DF[\"PRIMARY_RD\"])[i],\" Intersection : \",(MVA_DF[\"SECONDARY_RD\"])[i])\n",
    "        (MVA_DF[\"PRIMARY_RD\"])[i] = multiple_replace(dico,(MVA_DF[\"PRIMARY_RD\"])[i]) #Get the street name\n",
    "        (MVA_DF[\"SECONDARY_RD\"])[i] = multiple_replace(dico,(MVA_DF[\"SECONDARY_RD\"])[i]) #Get intersection \n",
    "        digit_AV_street = pattern_digitAV.match((MVA_DF[\"PRIMARY_RD\"])[i]) # Check if match with pattern\n",
    "        digit_AV_Inter =pattern_digitAV.match((MVA_DF[\"SECONDARY_RD\"])[i]) # Check if match with pattern\n",
    "        if digit_AV_Inter is not None : \n",
    "            (MVA_DF[\"SECONDARY_RD\"])[i]= \"0\" + digit_AV_Inter.group()    #Add a 0 in front if match\n",
    "        if digit_AV_street is not (None):\n",
    "            (MVA_DF[\"PRIMARY_RD\"])[i] = \"0\" + digit_AV_street.group() #Add a 0 in front if match\n",
    "        if reg.match((MVA_DF[\"PRIMARY_RD\"])[i]):\n",
    "            #print((MVA_DF[\"PRIMARY_RD\"])[i])\n",
    "            MVA_DF.drop(i, inplace=True)\n",
    "            count = count+1\n",
    "    MVA_DF = MVA_DF.loc[MVA_DF.PCF_VIOL_CATEGORY != '1'] #If driving under drugs or alcohol\n",
    "    print(\"count\",count)\n",
    "    print(\"lenDF: \",len(MVA_DF))\n",
    "    return (MVA_DF)\n",
    "\n",
    "#Function to aply multiple conditions/regexp on string\n",
    "def multiple_replace(dico, name_street):\n",
    "    regex = re.compile(\"(%s)\" % \"|\".join(map(re.escape, dico.keys()))) #Create reg exp from dico\n",
    "    return (regex.sub(lambda mo: dico[mo.string[mo.start():mo.end()]], name_street) ) #If there is a match, replace it with the corresponding value in dico\n",
    "\n"
   ]
  },
  {
   "cell_type": "code",
   "execution_count": 3,
   "metadata": {
    "collapsed": false
   },
   "outputs": [
    {
     "name": "stdout",
     "output_type": "stream",
     "text": [
      "original size :  7840\n",
      "count 3808\n",
      "lenDF:  4032\n",
      "original size :  8858\n",
      "count 4920\n",
      "lenDF:  3938\n",
      "original size :  9503\n",
      "count 5102\n",
      "lenDF:  4401\n",
      "12371\n"
     ]
    }
   ],
   "source": [
    "col_name = [\"COLLISION_DATE\",\"COLLISION_TIME\",\"PRIMARY_RD\",\"SECONDARY_RD\",\"CHP_BEAT_TYPE\",\"WEATHER_1\",\"COLLISION_SEVERITY\",\"PRIMARY_COLL_FACTOR\",\"PCF_VIOL_CATEGORY\",\"LIGHTING\",\"ROAD_SURFACE\",\"ROAD_COND_1\"]\n",
    "MVA_DF = pd.DataFrame(data=None, index=None, columns=col_name, dtype=None) #New empty dataframe\n",
    "size=0\n",
    "for i in range (4): #2011 to 2015\n",
    "    year = 2010 + (i+1) #File name\n",
    "    if year != 2012 : #Problem with 2012 Dataset so we exclude it \n",
    "        DF = pd.read_csv('CollisionRecords%i.txt' % year,sep = ',', dtype='unicode') #Read the csv file\n",
    "        DF = DF[col_name]\n",
    "        DF = cleaning(DF)\n",
    "        #print(len(DF))\n",
    "        size += len(DF) #Check size matches \n",
    "        MVA_DF = MVA_DF.append(DF)#Add DF to our initialized dataframe\n",
    "print(size)#Just to check\n"
   ]
  },
  {
   "cell_type": "markdown",
   "metadata": {},
   "source": [
    "### Step B.\n",
    "Creating the data frame by loading oci data csv - It is written in that way in case we would want to update the years (OCI of 2015 for example)"
   ]
  },
  {
   "cell_type": "code",
   "execution_count": 4,
   "metadata": {
    "collapsed": false
   },
   "outputs": [],
   "source": [
    "year = 2011 \n",
    "DF_OCI = pd.read_csv('OCI_SD_%i.csv' % year,sep = ',', dtype='unicode') #Read the csv file\n",
    "DF_OCI= DF_OCI[['oci','street','street_from','street_to','oci_desc']] #Keep only relevant variables"
   ]
  },
  {
   "cell_type": "markdown",
   "metadata": {},
   "source": [
    "### Step C.\n",
    "Merging the data : 3 functions total.\n",
    "We loop through the MVA_DF to find the OCI of the street where the accident occured. Sadly, the way to report a street for accidents is not the same as the OCI dataset so we had to make choices. The main idea is to match the main street name (So PRIMARY_RD in the MVA_DF with 'street' in the OCI DF. To match two strings, we first try the easy \"==\" comparison, but it rarely perfectly matches, so if it doesnt, we use the function \"difflib.get_close_matches\" with n=1 to have the closest possible match. - Once we match the main street, we might have more than more row, so we now look at the intersection which is \"SECONDARY_RD\" in the MVA_DF but is split in two for the OCI DF ('street_to', 'street_from') - The idea is to match SEC_RD to either street_to or from using == or close match but if more than one result comes out, we include it only if the oci_description (good, fair, poor) is the same. \n",
    "The big issue with this way of doing it is that the OCI DF doesn't take in account all street intersection and that MVA_DF is not very precise so even by us, it is difficult to figure out on which segment of the street the accident happened. \n",
    "\n",
    "The inter function is the one figuring out the intersection match out of the main street already matched\n",
    "The dataframe function is to append any line that matches to our final DF by joining the information from OCI and MVA"
   ]
  },
  {
   "cell_type": "code",
   "execution_count": null,
   "metadata": {
    "collapsed": true
   },
   "outputs": [],
   "source": [
    "def inter(TEMP,intersection_len,intersection,i) : \n",
    "    TEMP2 = pd.DataFrame(data=None, index=None, columns= None, dtype=None) #New empty dataframe    \n",
    "    TEMP2 = TEMP.loc[(TEMP['street_from'] == intersection)|(TEMP['street_to']==(intersection))]   #If perfect match in either street to or street from (OCI DF)\n",
    "    if TEMP2.empty : #If nothing matched\n",
    "        Close_Match_Intersection = (difflib.get_close_matches(intersection, (TEMP['street_from']),n=1)) #Same idea but with close_match and chose the closest (n=1)\n",
    "        Close_Match_To = (difflib.get_close_matches(intersection, (TEMP['street_to']),n=1)) #Same for street to\n",
    "        if (Close_Match_Intersection != []) & (Close_Match_To != []) : #If both have matched\n",
    "            TEMP2 = TEMP.loc[(TEMP['street_from'] == Close_Match_Intersection[0])|(TEMP['street_to']== Close_Match_To[0])]\n",
    "        elif (Close_Match_Intersection != []) : #Only street from\n",
    "            TEMP2 = TEMP.loc[(TEMP['street_from'] == Close_Match_Intersection[0])]\n",
    "        elif (Close_Match_To != []) : #Only street to\n",
    "            TEMP2 = TEMP.loc[(TEMP['street_to'] == Close_Match_To[0])]\n",
    "        else : #Nothing matched\n",
    "            print(\"Street : \",street_name,\" Intersection : \",intersection,\"INDEX : \",i)\n",
    "            intersection_len = intersection_len +1 #No intersection matched - \n",
    "            TEMP2 = TEMP #Stay with all the street names even if intersection don't match - Will be sorted out by the Dataframe function (Just in case one street has same OCI everywhere)\n",
    "    if TEMP2 is not None : \n",
    "        return(TEMP2,intersection_len)\n",
    "\n",
    "def dataframe(TEMP,i,DF):\n",
    "    TEST = pd.DataFrame(data=None, index=None, columns= None, dtype=None) #New temporary DF\n",
    "    TEMP = TEMP.reset_index(drop=True)#From OCI DF\n",
    "    TEMP1 = MVA_DF.loc[MVA_DF.index == i] #Get the corresponding row\n",
    "    TEMP1 = TEMP1.reset_index(drop=True) #So there is no index problem when join\n",
    "    a = True \n",
    "    length = len(TEMP) #To see if 0 or 1 or more rows matched in OCI\n",
    "    if length ==1 : #If one then perfect\n",
    "        TEST = TEMP.join(TEMP1) #Join OCI row to MVA row (and keep all the colulns from both DF)\n",
    "        DF = DF.append(TEST) #Add it to the merged DF\n",
    "    elif length > 1 : #If more than one matched\n",
    "        for j in range(len(TEMP)-1) :\n",
    "            if (TEMP['oci_desc'])[j] != (TEMP['oci_desc'])[j+1]: #If not all OCI_desc are the same, we took the decision not to include in DF\n",
    "                a = False #Set in to False so it wont add it\n",
    "        if a == True : \n",
    "            TEMP = TEMP.loc[[0]] #Chose the first row out of all the possibilities (but all have same OCI desc)\n",
    "            TEST = TEMP.join(TEMP1)#Join\n",
    "            DF = DF.append(TEST)#Add it to DF\n",
    "    if DF is not None :\n",
    "        return(DF)"
   ]
  },
  {
   "cell_type": "code",
   "execution_count": null,
   "metadata": {
    "collapsed": false
   },
   "outputs": [
    {
     "name": "stdout",
     "output_type": "stream",
     "text": [
      "0\n",
      "1\n",
      "Street :  54TH ST  Intersection :  54TH ST 3000 INDEX :  2\n",
      "2\n",
      "3\n",
      "4\n",
      "Street :  CAMINO SANTA FE  Intersection :  MIRAMAR RD INDEX :  5\n",
      "5\n",
      "6\n",
      "Street :  CAMINO DEL RIO W  Intersection :  KURTZ ST INDEX :  7\n",
      "7\n",
      "8\n",
      "9\n",
      "10\n",
      "11\n",
      "12\n",
      "13\n",
      "14\n",
      "15\n",
      "16\n",
      "17\n",
      "18\n",
      "19\n",
      "20\n",
      "21\n",
      "22\n",
      "23\n",
      "24\n",
      "25\n",
      "26\n",
      "Street :  FRIARS RD  Intersection :  I-15 INDEX :  27\n",
      "27\n",
      "28\n",
      "Street :  PALM AV  Intersection :  PICCARD AV INDEX :  29\n",
      "29\n",
      "Street :  SKYLINE DR  Intersection :  GRIBBLE ST INDEX :  30\n",
      "30\n",
      "Street :  PACIFIC HY  Intersection :  TAYLOR ST INDEX :  31\n",
      "31\n",
      "32\n",
      "33\n",
      "34\n",
      "Street :  WOODMAN  Intersection :  WOODMAN 200 INDEX :  35\n",
      "35\n",
      "36\n",
      "37\n",
      "38\n",
      "39\n",
      "Street :  ROSECRANS ST  Intersection :  SPORTS ARENA BL INDEX :  40\n",
      "40\n",
      "41\n",
      "42\n",
      "43\n",
      "44\n",
      "45\n",
      "46\n",
      "Street :  AVNIDA SUAVIDAD  Intersection :  AVNIDA SUAVIDAD 16265 INDEX :  47\n",
      "47\n",
      "48\n",
      "49\n",
      "50\n",
      "51\n",
      "52\n",
      "Street :  PERSHING DR  Intersection :  B ST INDEX :  53\n",
      "53\n",
      "Street :  BLACK MOUNTAIN RD  Intersection :  BLACK MOUNTAIN RD 10600 INDEX :  54\n",
      "54\n",
      "Street :  CAMINO DEL NORTE  Intersection :  I-15 INDEX :  55\n",
      "55\n",
      "56\n",
      "Street :  16TH ST  Intersection :  DAHLIA INDEX :  57\n",
      "57\n",
      "58\n",
      "59\n",
      "Street :  PACIFIC HY  Intersection :  TAYLOR ST INDEX :  60\n",
      "60\n",
      "61\n",
      "62\n",
      "63\n",
      "Street :  GENESEE AV  Intersection :  I-5 INDEX :  64\n",
      "64\n",
      "65\n",
      "66\n",
      "Street :  30TH ST  Intersection :  NORTH PARK WY INDEX :  67\n",
      "67\n",
      "68\n",
      "69\n",
      "70\n",
      "71\n",
      "Street :  BAYSIDE WALK  Intersection :  3700 BAYSIDE WALK INDEX :  72\n",
      "72\n",
      "Street :  WARING RD  Intersection :  PRINCESS VIEW DR INDEX :  73\n",
      "73\n",
      "74\n",
      "75\n",
      "76\n",
      "77\n",
      "78\n",
      "79\n",
      "80\n",
      "Street :  WILDWOOD RD  Intersection :  CHATSWORTH BL INDEX :  81\n",
      "81\n",
      "82\n",
      "83\n",
      "84\n",
      "85\n",
      "Street :  CESAR E CHAVZ PKWY  Intersection :  800 CESAR E CHAVZ PKWY INDEX :  86\n",
      "86\n",
      "87\n",
      "88\n",
      "89\n",
      "90\n",
      "91\n",
      "92\n",
      "93\n",
      "Street :  PALOMAR DR  Intersection :  DEL MAR AV INDEX :  94\n",
      "94\n",
      "95\n",
      "96\n",
      "97\n",
      "98\n",
      "Street :  PACIFIC HY  Intersection :  GRANDE PLUM CT INDEX :  99\n",
      "99\n",
      "100\n",
      "101\n",
      "Street :  FRIARS RD  Intersection :  I-163 INDEX :  102\n",
      "102\n",
      "103\n",
      "104\n",
      "105\n",
      "Street :  DEL MAR HEIGHTS RD  Intersection :  HARTFIELD AV INDEX :  106\n",
      "106\n",
      "107\n",
      "Street :  EL CAJON BL  Intersection :  CHOCTAW DR INDEX :  108\n",
      "108\n",
      "109\n",
      "110\n",
      "111\n",
      "Street :  MOUNTAIN RD  Intersection :  I-56 INDEX :  112\n",
      "112\n",
      "113\n",
      "Street :  POMERADO RD  Intersection :  PASEO MONTE BATALLA INDEX :  114\n",
      "114\n",
      "115\n",
      "116\n",
      "117\n",
      "118\n",
      "Street :  54TH ST  Intersection :  WESTOVER PL INDEX :  119\n",
      "119\n",
      "120\n",
      "121\n",
      "122\n",
      "123\n",
      "124\n",
      "125\n",
      "126\n",
      "127\n",
      "128\n",
      "129\n",
      "Street :  TOWNE  Intersection :  NOBEL DR INDEX :  130\n",
      "130\n",
      "131\n",
      "132\n",
      "133\n",
      "134\n",
      "135\n",
      "136\n",
      "Street :  GARNET AV  Intersection :  GARNET AV 1900 INDEX :  137\n",
      "137\n",
      "138\n",
      "139\n",
      "140\n",
      "Street :  CHATSWORTH BL  Intersection :  CHATSWORTH BL 1700 INDEX :  141\n",
      "141\n",
      "142\n",
      "Street :  PROSPECT AV  Intersection :  1350 PARK ROW INDEX :  143\n",
      "143\n",
      "144\n",
      "145\n",
      "146\n",
      "147\n",
      "148\n",
      "Street :  UPAS ST  Intersection :  UPAS ST 2977 INDEX :  149\n",
      "149\n",
      "150\n",
      "Street :  25TH ST  Intersection :  2500 CORONADO AV INDEX :  151\n",
      "151\n",
      "152\n",
      "153\n",
      "154\n",
      "155\n",
      "156\n",
      "157\n",
      "Street :  MIRAMAR RD  Intersection :  I-15 INDEX :  158\n",
      "158\n",
      "159\n",
      "160\n",
      "161\n",
      "162\n",
      "163\n",
      "Street :  43RD ST  Intersection :  43RD ST 4100 INDEX :  164\n",
      "164\n",
      "165\n",
      "Street :  AFTON RD  Intersection :  AFTON RD 3100 INDEX :  166\n",
      "166\n",
      "Street :  SKYLINE  AV 6300  Intersection :  HENSON ST INDEX :  167\n",
      "167\n",
      "168\n"
     ]
    }
   ],
   "source": [
    "DF = pd.DataFrame(data=None, index=None, columns= None, dtype=None) #Will be final merged DF\n",
    "street_len = 0 #Var for number of Primary_RD not matching street name\n",
    "intersection_len = 0 #Var for number of Secondary_RD not matching street_from or street_to\n",
    "MVA_DF= MVA_DF.reset_index(drop=True)\n",
    "\n",
    "for i in range(len(MVA_DF)) : #Loop through all the DF with the Accidents/Collisison\n",
    "    street_name = (MVA_DF[\"PRIMARY_RD\"])[i] #Get street_name from Primary_RD\n",
    "    intersection = (MVA_DF[\"SECONDARY_RD\"])[i] #Get the Secondary_RD/Intersection \n",
    "    TEMP = DF_OCI.loc[(DF_OCI['street'].str.contains(street_name))] #Get all the street in the OCI that contains or is equal to street_name (from MVA_DF)    \n",
    "    if TEMP.empty: #If nothing matchs\n",
    "        Close_Match_Street = (difflib.get_close_matches(street_name, (DF_OCI['street']),n=1)) #Function that finds the closest match - Chose to only take one out of the different matches\n",
    "        if (Close_Match_Street != []) : #If there is a match\n",
    "            TEMPA = DF_OCI.loc[DF_OCI['street'].str.contains(Close_Match_Street[0])] #Get all the street names from DF_OCI that contain or is equal to this new close match\n",
    "            TEMP3,intersection_len= inter(TEMPA,intersection_len,intersection,i)\n",
    "            if not TEMP3.empty : \n",
    "                DF = dataframe(TEMP3,i,DF)\n",
    "        else :\n",
    "            street_len = street_len +1\n",
    "            print(\"No street match\")\n",
    "            print(\"Street : \",street_name,\" Intersection : \",intersection)        \n",
    "    else : \n",
    "        TEMP2,intersection_len= inter(TEMP,intersection_len,intersection,i) #Get all the possibilities of inter match from the street match (TEMP)\n",
    "        DF= dataframe(TEMP2,i,DF) #Merge the MVA row and OCI DF that matched \n",
    "\n",
    "    print(i) #Just to know how long you still have to wait until it's done"
   ]
  },
  {
   "cell_type": "markdown",
   "metadata": {},
   "source": [
    "### Step D.\n",
    "This is where we merge the data between the OCI and the MVA collision data into a single dataframe"
   ]
  },
  {
   "cell_type": "code",
   "execution_count": null,
   "metadata": {
    "collapsed": false
   },
   "outputs": [],
   "source": [
    "#To be changed - Instead of looping wanted to merge on street name but don't think its possible - So we should make multiple conditions for determining if street + intersection corresponds to the right OCI\n",
    "#If we have info on To or From  - look directly into the right street-to or street_from - \n",
    "#Otherwise, if double answers, check if same OCI_desc - if same just add it - Otherwise should we include it or just exclude these cases ? \n",
    "\n",
    "TEMP = pd.DataFrame(data=None, index=None, columns= None, dtype=None) #New empty dataframe\n",
    "TEMP2 = pd.DataFrame(data=None, index=None, columns= None, dtype=None) #New empty dataframe\n",
    "DF = pd.DataFrame(data=None, index=None, columns= None, dtype=None) #New empty dataframe\n",
    "street_len = 0\n",
    "intersection_len = 0\n",
    "\n",
    "for i in range(400) : \n",
    "    street_name = (MVA_DF[\"PRIMARY_RD\"])[i]\n",
    "    intersection = (MVA_DF[\"SECONDARY_RD\"])[i]\n",
    "    \n",
    "    TEMP = DF_OCI.loc[(DF_OCI['street'].str.contains(street_name))]\n",
    "    \n",
    "    if TEMP.empty:\n",
    "        Close_Match_Street = (difflib.get_close_matches(street_name, (DF_OCI['street']),n=1))\n",
    "        print(\"Close_M_S : \", Close_Match_Street)\n",
    "        if (Close_Match_Street != []) : \n",
    "            TEMP = DF_OCI.loc[DF_OCI['street'].str.contains(Close_Match_Street[0])]\n",
    "        else :\n",
    "            print(\"No street match\")\n",
    "            print(\"Street : \",street_name,\" Intersection : \",intersection)\n",
    "            street_len = street_len +1\n",
    "            \n",
    "    else :\n",
    "        TEMP2 = TEMP.loc[(TEMP['street_from'] == intersection)|(TEMP['street_to']==(intersection))]  \n",
    "        if TEMP2.empty : \n",
    "            Close_Match_Intersection = (difflib.get_close_matches(intersection, (TEMP['street_from']),n=1))\n",
    "            Close_Match_To = (difflib.get_close_matches(intersection, (TEMP['street_to']),n=1))\n",
    "            if (Close_Match_Intersection != []) & (Close_Match_To != []) : \n",
    "                TEMP2 = TEMP.loc[(TEMP['street_from'] == Close_Match_Intersection[0])|(TEMP['street_to']== Close_Match_To[0])]\n",
    "            elif (Close_Match_Intersection != []) : \n",
    "                TEMP2 = TEMP.loc[(TEMP['street_from'] == Close_Match_Intersection[0])]\n",
    "            elif (Close_Match_To != []) : \n",
    "                TEMP2 = TEMP.loc[(TEMP['street_to'] == Close_Match_To[0])]\n",
    "            else : \n",
    "                print(\"No street_from match\")\n",
    "                print(\"Street : \",street_name,\" Intersection : \",intersection)\n",
    "                intersection_len = intersection_len +1\n",
    "                \n",
    "        \n",
    "        TEMP2= TEMP2.reset_index(drop=True)\n",
    "        length = len(TEMP2)\n",
    "        if length ==1 :\n",
    "            DF = DF.append(TEMP2)\n",
    "        elif length ==2 : \n",
    "            if (TEMP2['oci_desc'])[0] == (TEMP2['oci_desc'])[1]:\n",
    "                DF = DF.append(TEMP2.loc[[1]])\n",
    "        elif length >2 :\n",
    "            print(\"CAS A DETERMINER\")\n",
    "  "
   ]
  },
  {
   "cell_type": "markdown",
   "metadata": {},
   "source": [
    "### Step E\n",
    "Save the DF in a csv file and reset the index - Also plot the frequency of accidents/oci to have a little idea"
   ]
  },
  {
   "cell_type": "code",
   "execution_count": null,
   "metadata": {
    "collapsed": false
   },
   "outputs": [],
   "source": [
    "DF= DF.reset_index(drop=True)\n",
    "print(street_len,intersection_len,len(DF))\n",
    "DF.to_csv('Final_DF.csv')\n",
    "plt.figure()\n",
    "DF.oci_desc.value_counts().plot(kind='bar') #far from good model but just to have an idea\n",
    "plt.show()"
   ]
  },
  {
   "cell_type": "code",
   "execution_count": null,
   "metadata": {
    "collapsed": false
   },
   "outputs": [],
   "source": [
    "DF = pd.read_csv('Final_DF.csv') ## Dataframe we will use for the analysis"
   ]
  },
  {
   "cell_type": "markdown",
   "metadata": {},
   "source": [
    "## Section 2: Preliminary Data Analytics\n",
    "This section will used to quickly check values and poke around the new dataframe. Not committal to analysis."
   ]
  },
  {
   "cell_type": "code",
   "execution_count": null,
   "metadata": {
    "collapsed": false
   },
   "outputs": [],
   "source": [
    "DF.head()"
   ]
  },
  {
   "cell_type": "code",
   "execution_count": null,
   "metadata": {
    "collapsed": false
   },
   "outputs": [],
   "source": [
    "DF.tail()"
   ]
  },
  {
   "cell_type": "code",
   "execution_count": null,
   "metadata": {
    "collapsed": false
   },
   "outputs": [],
   "source": [
    "DF.WEATHER_1.value_counts()"
   ]
  },
  {
   "cell_type": "code",
   "execution_count": null,
   "metadata": {
    "collapsed": false
   },
   "outputs": [],
   "source": [
    "DF.LIGHTING.value_counts()"
   ]
  },
  {
   "cell_type": "code",
   "execution_count": null,
   "metadata": {
    "collapsed": false
   },
   "outputs": [],
   "source": [
    "DF.PCF_VIOL_CATEGORY.value_counts() "
   ]
  },
  {
   "cell_type": "code",
   "execution_count": null,
   "metadata": {
    "collapsed": false
   },
   "outputs": [],
   "source": [
    "DF.PRIMARY_COLL_FACTOR.value_counts() "
   ]
  },
  {
   "cell_type": "code",
   "execution_count": null,
   "metadata": {
    "collapsed": false
   },
   "outputs": [],
   "source": [
    "DF.loc[(DF['PRIMARY_COLL_FACTOR'] == 'A')]"
   ]
  },
  {
   "cell_type": "markdown",
   "metadata": {
    "collapsed": true
   },
   "source": [
    "## Section 3: Data Analysis"
   ]
  },
  {
   "cell_type": "code",
   "execution_count": null,
   "metadata": {
    "collapsed": true
   },
   "outputs": [],
   "source": [
    "x = pd.value_counts(DF_OCI['oci_desc'].values,sort=False)\n",
    "y = DF_OCI.count()\n",
    "liste = []\n",
    "#for i in range (len(x)) : \n",
    "for i in range (len(x)): \n",
    "    liste.append(x[i]/y[1])\n",
    "\n",
    "liste"
   ]
  },
  {
   "cell_type": "code",
   "execution_count": null,
   "metadata": {
    "collapsed": false
   },
   "outputs": [],
   "source": [
    "x1 = pd.value_counts(MVA_DF['oci_desc'].values,sort=False)"
   ]
  },
  {
   "cell_type": "code",
   "execution_count": null,
   "metadata": {
    "collapsed": false
   },
   "outputs": [],
   "source": [
    "# First visualization of data\n",
    "pd.crosstab(DF.oci_desc, DF.oci).plot.barh(title = \"MVA Frequency vs OCI\", stacked = True)\n",
    "plt.xlabel(\"Frequency of MVA's\")\n",
    "plt.ylabel(\"OCI Description\")\n",
    "plt.legend(title = 'OCI Rating: 0 - 100',\n",
    "           bbox_to_anchor=(1.50, 0, 2, 2), loc = 2, ncol = 10, mode= \"expand\", borderaxespad=1)\n",
    "plt.show()"
   ]
  },
  {
   "cell_type": "markdown",
   "metadata": {},
   "source": [
    "### Observation 1\n",
    "We first try to find evidence of any correlation between road conditions and possible motor vehicle accidents. In our hypothesis, we argued that there should be a strong correlation from the get go. To visualize this, we plotted the frequency of accidents that occured in each of the category description of OCI. \n",
    "\n",
    "The legend reflects the different OCIs and is ordered from least to greatest with the exception of 100. We can thus see each individual OCI adds up to the total amount of collisions in a single category. \n",
    "\n",
    "There is immediately a huge disparity in the frequency of MVAs when comparing the OCI Descriptions. We see that the amount of fair road accidents eclipse both good and fair accidents. This means that a huge proportion of accidents in our dataset must have occurred on \"fair\" quality roads. "
   ]
  },
  {
   "cell_type": "code",
   "execution_count": null,
   "metadata": {
    "collapsed": false
   },
   "outputs": [],
   "source": [
    "totals = len(DF.oci) # Get the dataframe\n",
    "\n",
    "# Get the proportions\n",
    "good_pro = 100 * (len(DF.loc[DF['oci_desc'] == 'Good']) / totals)\n",
    "fair_pro = 100 * (len(DF.loc[DF['oci_desc'] == 'Fair']) / totals)\n",
    "poor_pro = 100 * (len(DF.loc[DF['oci_desc'] == 'Poor']) / totals)\n",
    "\n",
    "# Reporting\n",
    "print(\"Out of: \", totals, \"accidents\")\n",
    "print(good_pro, fair_pro, poor_pro)"
   ]
  },
  {
   "cell_type": "markdown",
   "metadata": {},
   "source": [
    "### Observation 2\n",
    "It turns out that of all the motor vehicle accidents in our dataset, about half of the MVAs occurred on streets with \"fair\" OCI rating. Furthermore, the amount of MVAs for \"good\" and \"poor\" rated streets are around the same proportions. This directly provides evidence to the contrary of our hypothesis and raises the question \"Do street conditions even play a role in the causation of MVAs?\" \n",
    "\n",
    "This leads us to believe that there must be other factors worth looking into that can explain the causation of these motor vehicle accidents rather than street conditions."
   ]
  },
  {
   "cell_type": "code",
   "execution_count": null,
   "metadata": {
    "collapsed": false
   },
   "outputs": [],
   "source": [
    "plt.subplot(2,1,1)\n",
    "DF.WEATHER_1.value_counts().plot.barh(color = 'r')\n",
    "plt.xlabel('Amount of Motor Vehicle Accidents')\n",
    "plt.ylabel('Weather Condition')\n",
    "plt.show()\n",
    "\n",
    "plt.subplot(2,1,2)\n",
    "DF.LIGHTING.value_counts().plot.barh(color = 'b')\n",
    "plt.xlabel('Amount of Motor Vehicle Accidents')\n",
    "plt.ylabel('Lighting Condtion')\n",
    "plt.show()"
   ]
  },
  {
   "cell_type": "markdown",
   "metadata": {},
   "source": [
    "### Observation 3\n",
    "Since we have strong evidence against our hypothesis, we move into exploring other variables in our dataframe that could potentially cause MVAs. We examine factors such as lighting and weather conditions in this new case. We don't consider the collision factor because we are focusing on motor vehicle accidents.\n",
    "\n",
    "Based on the Statewide Integrated Traffic Records System (SWITRS), a [legend] was re-engineered beginning with collisions dated January 2002.  As part of this re-engineering, they have changed the format of the raw data provided upon request to SWITRS data users:\n",
    "\n",
    "Weather_1: the weather condition at the time of the collision\n",
    "\n",
    "A - Clear\n",
    "B - Cloudy\n",
    "C - Raining\n",
    "D - Snowing\n",
    "E - Fog\n",
    "F - Other\n",
    "G - Wind\n",
    "-- Not Stated\n",
    "\n",
    "Lighting: The amount of light present at the collision\n",
    "\n",
    "A - Daylight\n",
    "B - Dusk - Dawn\n",
    "C - Dark - Street Lights\n",
    "D - Dark - No Street Lights\n",
    "E - Dark - Street Lights Not Functioning\n",
    "-- Not Stated\n",
    "\n",
    "It seems that most of the MVA collisions occurred in either clear (A) or cloudy (B) weather, so weather doesn't appear to make a strong impact as we would expect. We move onto lighting and notice that not all accidents occurred in broad daylight. A sizeable portion of these collisions seem to appear at night with streetlights on (C). \n"
   ]
  },
  {
   "cell_type": "code",
   "execution_count": null,
   "metadata": {
    "collapsed": false
   },
   "outputs": [],
   "source": [
    "print(len(DF.loc[(DF['PCF_VIOL_CATEGORY'] == '08') & (DF['LIGHTING'] == 'C')]) / len(DF.loc[(DF['PCF_VIOL_CATEGORY'] == '08')]))\n",
    "print(len(DF.loc[(DF['PCF_VIOL_CATEGORY'] == '03') & (DF['LIGHTING'] == 'C')]) / len(DF.loc[(DF['PCF_VIOL_CATEGORY'] == '03')]))\n",
    "print(len(DF.loc[(DF['PCF_VIOL_CATEGORY'] == '09') & (DF['LIGHTING'] == 'C')]) / len(DF.loc[(DF['PCF_VIOL_CATEGORY'] == '09')]))"
   ]
  },
  {
   "cell_type": "code",
   "execution_count": null,
   "metadata": {
    "collapsed": false
   },
   "outputs": [],
   "source": [
    "DF_EX4 = DF.loc[(DF['PCF_VIOL_CATEGORY'] == '08') \n",
    "                | (DF['PCF_VIOL_CATEGORY'] == '03')\n",
    "                | (DF['PCF_VIOL_CATEGORY'] == '09') \n",
    "                | (DF['PCF_VIOL_CATEGORY'] == '12')\n",
    "                | (DF['PCF_VIOL_CATEGORY'] == '04')\n",
    "                | (DF['PCF_VIOL_CATEGORY'] == '11')\n",
    "                | (DF['PCF_VIOL_CATEGORY'] == '10')\n",
    "                | (DF['PCF_VIOL_CATEGORY'] == '05')\n",
    "                | (DF['PCF_VIOL_CATEGORY'] == '17')\n",
    "                | (DF['PCF_VIOL_CATEGORY'] == '18')\n",
    "                | (DF['PCF_VIOL_CATEGORY'] == '06')\n",
    "                | (DF['PCF_VIOL_CATEGORY'] == '07')\n",
    "                | (DF['PCF_VIOL_CATEGORY'] == '22')\n",
    "                | (DF['PCF_VIOL_CATEGORY'] == '01')\n",
    "                | (DF['PCF_VIOL_CATEGORY'] == '13')\n",
    "                | (DF['PCF_VIOL_CATEGORY'] == '16')\n",
    "                | (DF['PCF_VIOL_CATEGORY'] == '15')\n",
    "                | (DF['PCF_VIOL_CATEGORY'] == '14')\n",
    "                | (DF['PCF_VIOL_CATEGORY'] == '02')]\n",
    "\n",
    "DF_OB4 = DF.loc[(DF['PCF_VIOL_CATEGORY'] == '08') & (DF['LIGHTING'] == 'C') | \n",
    "                (DF['PCF_VIOL_CATEGORY'] == '03') & (DF['LIGHTING'] == 'C') | \n",
    "                (DF['PCF_VIOL_CATEGORY'] == '09') & (DF['LIGHTING'] == 'C') |\n",
    "                (DF['PCF_VIOL_CATEGORY'] == '12') & (DF['LIGHTING'] == 'C') |\n",
    "                (DF['PCF_VIOL_CATEGORY'] == '04') & (DF['LIGHTING'] == 'C') |\n",
    "                (DF['PCF_VIOL_CATEGORY'] == '11') & (DF['LIGHTING'] == 'C') |\n",
    "                (DF['PCF_VIOL_CATEGORY'] == '10') & (DF['LIGHTING'] == 'C') |\n",
    "                (DF['PCF_VIOL_CATEGORY'] == '05') & (DF['LIGHTING'] == 'C') \n",
    "                | (DF['PCF_VIOL_CATEGORY'] == '17') & (DF['LIGHTING'] == 'C')\n",
    "                | (DF['PCF_VIOL_CATEGORY'] == '18') & (DF['LIGHTING'] == 'C')\n",
    "                | (DF['PCF_VIOL_CATEGORY'] == '06') & (DF['LIGHTING'] == 'C')\n",
    "                | (DF['PCF_VIOL_CATEGORY'] == '07') & (DF['LIGHTING'] == 'C')\n",
    "                | (DF['PCF_VIOL_CATEGORY'] == '22') & (DF['LIGHTING'] == 'C')\n",
    "                | (DF['PCF_VIOL_CATEGORY'] == '01') & (DF['LIGHTING'] == 'C')\n",
    "                | (DF['PCF_VIOL_CATEGORY'] == '13') & (DF['LIGHTING'] == 'C')\n",
    "                | (DF['PCF_VIOL_CATEGORY'] == '16') & (DF['LIGHTING'] == 'C')\n",
    "                | (DF['PCF_VIOL_CATEGORY'] == '15') & (DF['LIGHTING'] == 'C')\n",
    "                | (DF['PCF_VIOL_CATEGORY'] == '14') & (DF['LIGHTING'] == 'C')\n",
    "                | (DF['PCF_VIOL_CATEGORY'] == '02') & (DF['LIGHTING'] == 'C')] \n",
    "\n",
    "\n",
    "DF_EX4.PCF_VIOL_CATEGORY.value_counts().plot(color = 'r', label = 'Overall')\n",
    "DF_OB4.PCF_VIOL_CATEGORY.value_counts().plot(color = 'y', label = 'Street Lights On')\n",
    "plt.xlabel(\"Collision Violation\")\n",
    "plt.ylabel(\"Frequency of Collision\")\n",
    "plt.legend()\n",
    "plt.show()"
   ]
  },
  {
   "cell_type": "markdown",
   "metadata": {},
   "source": [
    "## Observation 4: \n",
    "We continue to investigate lighting and its impact on MVAs. However, we would need to consider the types of accidents that occurred as well. This is because we really don't know what lighting can do on a particular driver. Just because it's dark, it doesn't automatically mean people lose control of their vehicles due to vision problem. Thus, we need to analyze PCF_VIOL_CATEGORY, or why the collision occurred. Based on the Statewide Integrated Traffic Records System (SWITRS),\n",
    "\n",
    "01 - Driving or Bicycling Under the Influence of Alcohol or Drug\n",
    "02 - Impeding Traffic\n",
    "03 - Unsafe Speed\n",
    "04 - Following Too Closely\n",
    "05 - Wrong Side of Road\n",
    "06 - Improper Passing\n",
    "07 - Unsafe Lane Change\n",
    "08 - Improper Turning\n",
    "09 - Automobile Right of Way\n",
    "10 - Pedestrian Right of Way\n",
    "11 - Pedestrian Violation\n",
    "12 - Traffic Signals and Signs\n",
    "13 - Hazardous Parking\n",
    "14 - Lights\n",
    "15 - Brakes\n",
    "16 - Other Equipment\n",
    "17 - Other Hazardous Violation\n",
    "18 - Other Than Driver (or Pedestrian)\n",
    "19 - Unknown\n",
    "20 - Unknown\n",
    "21 - Unsafe Starting or Backing\n",
    "22 - Other Improper Driving\n",
    "23 - Pedestrian or \"Other\" Under the Influence of Alcohol or Drug\n",
    "24 - Fell Asleep\n",
    "00 - Unknown\n",
    "-- Not Stated\n",
    "\n",
    "We can observe that the majority of the collision type accidents do not occur at night time. Common vehicular accidents such as Improper Turning, Unsafe Speed, and Right of Way accidents occur in the daytime. These are more technical issues that can be resolved by either training, practice, or being a safer driver in general. However, things such as DUI's, Unsafe Lane Changes, and Impeding traffic could possibly occur due to the driver not having great visibility whether personal or vehicular. "
   ]
  },
  {
   "cell_type": "code",
   "execution_count": null,
   "metadata": {
    "collapsed": false
   },
   "outputs": [],
   "source": [
    "DF.PCF_VIOL_CATEGORY.value_counts().plot.bar(color = 'orange')\n",
    "plt.xlabel('Type of Accident')\n",
    "plt.ylabel('Frequency')\n",
    "plt.show()"
   ]
  },
  {
   "cell_type": "markdown",
   "metadata": {},
   "source": [
    "## Observation 5\n",
    "Finally, since we have noticed that lighting does not play a significant role in major accidents, we decide to look at the types of accidents that occured. 08, 03, 09 are types of accidents that are most surely due to technical errors and can be corrected by preventative measures before a driver even touches the streets. We see lighting playing a role in the more smaller type accidents that require visibility. This is a point of interest that should be further investigated. Quality of the streets, however, are not a huge factor in MVAs. "
   ]
  },
  {
   "cell_type": "markdown",
   "metadata": {},
   "source": [
    "## Section 4: Discussion & Remarks"
   ]
  },
  {
   "cell_type": "code",
   "execution_count": null,
   "metadata": {
    "collapsed": true
   },
   "outputs": [],
   "source": []
  }
 ],
 "metadata": {
  "kernelspec": {
   "display_name": "Python 3",
   "language": "python",
   "name": "python3"
  },
  "language_info": {
   "codemirror_mode": {
    "name": "ipython",
    "version": 3
   },
   "file_extension": ".py",
   "mimetype": "text/x-python",
   "name": "python",
   "nbconvert_exporter": "python",
   "pygments_lexer": "ipython3",
   "version": "3.6.0"
  }
 },
 "nbformat": 4,
 "nbformat_minor": 2
}
